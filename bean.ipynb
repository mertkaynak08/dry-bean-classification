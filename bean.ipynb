{
 "cells": [
  {
   "cell_type": "code",
   "execution_count": 1,
   "id": "daf39573",
   "metadata": {
    "ExecuteTime": {
     "end_time": "2023-10-22T19:05:06.608830700Z",
     "start_time": "2023-10-22T19:05:06.205216Z"
    }
   },
   "outputs": [],
   "source": [
    "import numpy as np\n",
    "import pandas as pd\n",
    "import seaborn as sns\n",
    "import matplotlib.pyplot as plt\n",
    "from sklearn.preprocessing import LabelEncoder\n",
    "from sklearn.model_selection import train_test_split\n",
    "from sklearn.preprocessing import StandardScaler\n",
    "from sklearn.decomposition import PCA\n",
    "from sklearn.neighbors import KNeighborsClassifier\n",
    "from sklearn.ensemble import RandomForestClassifier\n",
    "from sklearn.naive_bayes import GaussianNB\n",
    "from sklearn.linear_model import LogisticRegression\n",
    "from sklearn.svm import SVC\n",
    "from sklearn.metrics import confusion_matrix\n",
    "from sklearn.metrics import accuracy_score"
   ]
  },
  {
   "cell_type": "code",
   "execution_count": 2,
   "id": "c71ff35d",
   "metadata": {
    "ExecuteTime": {
     "end_time": "2023-10-22T19:05:09.412806300Z",
     "start_time": "2023-10-22T19:05:06.608830700Z"
    },
    "scrolled": true
   },
   "outputs": [],
   "source": [
    "data = pd.read_excel('bean.xlsx')"
   ]
  },
  {
   "cell_type": "code",
   "execution_count": 3,
   "id": "58759be2",
   "metadata": {
    "ExecuteTime": {
     "end_time": "2023-10-22T19:05:09.472348200Z",
     "start_time": "2023-10-22T19:05:09.418816500Z"
    }
   },
   "outputs": [
    {
     "data": {
      "text/html": [
       "<div>\n",
       "<style scoped>\n",
       "    .dataframe tbody tr th:only-of-type {\n",
       "        vertical-align: middle;\n",
       "    }\n",
       "\n",
       "    .dataframe tbody tr th {\n",
       "        vertical-align: top;\n",
       "    }\n",
       "\n",
       "    .dataframe thead th {\n",
       "        text-align: right;\n",
       "    }\n",
       "</style>\n",
       "<table border=\"1\" class=\"dataframe\">\n",
       "  <thead>\n",
       "    <tr style=\"text-align: right;\">\n",
       "      <th></th>\n",
       "      <th>Area</th>\n",
       "      <th>Perimeter</th>\n",
       "      <th>MajorAxisLength</th>\n",
       "      <th>MinorAxisLength</th>\n",
       "      <th>AspectRation</th>\n",
       "      <th>Eccentricity</th>\n",
       "      <th>ConvexArea</th>\n",
       "      <th>EquivDiameter</th>\n",
       "      <th>Extent</th>\n",
       "      <th>Solidity</th>\n",
       "      <th>roundness</th>\n",
       "      <th>Compactness</th>\n",
       "      <th>ShapeFactor1</th>\n",
       "      <th>ShapeFactor2</th>\n",
       "      <th>ShapeFactor3</th>\n",
       "      <th>ShapeFactor4</th>\n",
       "      <th>Class</th>\n",
       "    </tr>\n",
       "  </thead>\n",
       "  <tbody>\n",
       "    <tr>\n",
       "      <th>0</th>\n",
       "      <td>28395</td>\n",
       "      <td>610.291</td>\n",
       "      <td>208.178117</td>\n",
       "      <td>173.888747</td>\n",
       "      <td>1.197191</td>\n",
       "      <td>0.549812</td>\n",
       "      <td>28715</td>\n",
       "      <td>190.141097</td>\n",
       "      <td>0.763923</td>\n",
       "      <td>0.988856</td>\n",
       "      <td>0.958027</td>\n",
       "      <td>0.913358</td>\n",
       "      <td>0.007332</td>\n",
       "      <td>0.003147</td>\n",
       "      <td>0.834222</td>\n",
       "      <td>0.998724</td>\n",
       "      <td>SEKER</td>\n",
       "    </tr>\n",
       "    <tr>\n",
       "      <th>1</th>\n",
       "      <td>28734</td>\n",
       "      <td>638.018</td>\n",
       "      <td>200.524796</td>\n",
       "      <td>182.734419</td>\n",
       "      <td>1.097356</td>\n",
       "      <td>0.411785</td>\n",
       "      <td>29172</td>\n",
       "      <td>191.272750</td>\n",
       "      <td>0.783968</td>\n",
       "      <td>0.984986</td>\n",
       "      <td>0.887034</td>\n",
       "      <td>0.953861</td>\n",
       "      <td>0.006979</td>\n",
       "      <td>0.003564</td>\n",
       "      <td>0.909851</td>\n",
       "      <td>0.998430</td>\n",
       "      <td>SEKER</td>\n",
       "    </tr>\n",
       "    <tr>\n",
       "      <th>2</th>\n",
       "      <td>29380</td>\n",
       "      <td>624.110</td>\n",
       "      <td>212.826130</td>\n",
       "      <td>175.931143</td>\n",
       "      <td>1.209713</td>\n",
       "      <td>0.562727</td>\n",
       "      <td>29690</td>\n",
       "      <td>193.410904</td>\n",
       "      <td>0.778113</td>\n",
       "      <td>0.989559</td>\n",
       "      <td>0.947849</td>\n",
       "      <td>0.908774</td>\n",
       "      <td>0.007244</td>\n",
       "      <td>0.003048</td>\n",
       "      <td>0.825871</td>\n",
       "      <td>0.999066</td>\n",
       "      <td>SEKER</td>\n",
       "    </tr>\n",
       "    <tr>\n",
       "      <th>3</th>\n",
       "      <td>30008</td>\n",
       "      <td>645.884</td>\n",
       "      <td>210.557999</td>\n",
       "      <td>182.516516</td>\n",
       "      <td>1.153638</td>\n",
       "      <td>0.498616</td>\n",
       "      <td>30724</td>\n",
       "      <td>195.467062</td>\n",
       "      <td>0.782681</td>\n",
       "      <td>0.976696</td>\n",
       "      <td>0.903936</td>\n",
       "      <td>0.928329</td>\n",
       "      <td>0.007017</td>\n",
       "      <td>0.003215</td>\n",
       "      <td>0.861794</td>\n",
       "      <td>0.994199</td>\n",
       "      <td>SEKER</td>\n",
       "    </tr>\n",
       "    <tr>\n",
       "      <th>4</th>\n",
       "      <td>30140</td>\n",
       "      <td>620.134</td>\n",
       "      <td>201.847882</td>\n",
       "      <td>190.279279</td>\n",
       "      <td>1.060798</td>\n",
       "      <td>0.333680</td>\n",
       "      <td>30417</td>\n",
       "      <td>195.896503</td>\n",
       "      <td>0.773098</td>\n",
       "      <td>0.990893</td>\n",
       "      <td>0.984877</td>\n",
       "      <td>0.970516</td>\n",
       "      <td>0.006697</td>\n",
       "      <td>0.003665</td>\n",
       "      <td>0.941900</td>\n",
       "      <td>0.999166</td>\n",
       "      <td>SEKER</td>\n",
       "    </tr>\n",
       "    <tr>\n",
       "      <th>...</th>\n",
       "      <td>...</td>\n",
       "      <td>...</td>\n",
       "      <td>...</td>\n",
       "      <td>...</td>\n",
       "      <td>...</td>\n",
       "      <td>...</td>\n",
       "      <td>...</td>\n",
       "      <td>...</td>\n",
       "      <td>...</td>\n",
       "      <td>...</td>\n",
       "      <td>...</td>\n",
       "      <td>...</td>\n",
       "      <td>...</td>\n",
       "      <td>...</td>\n",
       "      <td>...</td>\n",
       "      <td>...</td>\n",
       "      <td>...</td>\n",
       "    </tr>\n",
       "    <tr>\n",
       "      <th>13606</th>\n",
       "      <td>42097</td>\n",
       "      <td>759.696</td>\n",
       "      <td>288.721612</td>\n",
       "      <td>185.944705</td>\n",
       "      <td>1.552728</td>\n",
       "      <td>0.765002</td>\n",
       "      <td>42508</td>\n",
       "      <td>231.515799</td>\n",
       "      <td>0.714574</td>\n",
       "      <td>0.990331</td>\n",
       "      <td>0.916603</td>\n",
       "      <td>0.801865</td>\n",
       "      <td>0.006858</td>\n",
       "      <td>0.001749</td>\n",
       "      <td>0.642988</td>\n",
       "      <td>0.998385</td>\n",
       "      <td>DERMASON</td>\n",
       "    </tr>\n",
       "    <tr>\n",
       "      <th>13607</th>\n",
       "      <td>42101</td>\n",
       "      <td>757.499</td>\n",
       "      <td>281.576392</td>\n",
       "      <td>190.713136</td>\n",
       "      <td>1.476439</td>\n",
       "      <td>0.735702</td>\n",
       "      <td>42494</td>\n",
       "      <td>231.526798</td>\n",
       "      <td>0.799943</td>\n",
       "      <td>0.990752</td>\n",
       "      <td>0.922015</td>\n",
       "      <td>0.822252</td>\n",
       "      <td>0.006688</td>\n",
       "      <td>0.001886</td>\n",
       "      <td>0.676099</td>\n",
       "      <td>0.998219</td>\n",
       "      <td>DERMASON</td>\n",
       "    </tr>\n",
       "    <tr>\n",
       "      <th>13608</th>\n",
       "      <td>42139</td>\n",
       "      <td>759.321</td>\n",
       "      <td>281.539928</td>\n",
       "      <td>191.187979</td>\n",
       "      <td>1.472582</td>\n",
       "      <td>0.734065</td>\n",
       "      <td>42569</td>\n",
       "      <td>231.631261</td>\n",
       "      <td>0.729932</td>\n",
       "      <td>0.989899</td>\n",
       "      <td>0.918424</td>\n",
       "      <td>0.822730</td>\n",
       "      <td>0.006681</td>\n",
       "      <td>0.001888</td>\n",
       "      <td>0.676884</td>\n",
       "      <td>0.996767</td>\n",
       "      <td>DERMASON</td>\n",
       "    </tr>\n",
       "    <tr>\n",
       "      <th>13609</th>\n",
       "      <td>42147</td>\n",
       "      <td>763.779</td>\n",
       "      <td>283.382636</td>\n",
       "      <td>190.275731</td>\n",
       "      <td>1.489326</td>\n",
       "      <td>0.741055</td>\n",
       "      <td>42667</td>\n",
       "      <td>231.653248</td>\n",
       "      <td>0.705389</td>\n",
       "      <td>0.987813</td>\n",
       "      <td>0.907906</td>\n",
       "      <td>0.817457</td>\n",
       "      <td>0.006724</td>\n",
       "      <td>0.001852</td>\n",
       "      <td>0.668237</td>\n",
       "      <td>0.995222</td>\n",
       "      <td>DERMASON</td>\n",
       "    </tr>\n",
       "    <tr>\n",
       "      <th>13610</th>\n",
       "      <td>42159</td>\n",
       "      <td>772.237</td>\n",
       "      <td>295.142741</td>\n",
       "      <td>182.204716</td>\n",
       "      <td>1.619841</td>\n",
       "      <td>0.786693</td>\n",
       "      <td>42600</td>\n",
       "      <td>231.686223</td>\n",
       "      <td>0.788962</td>\n",
       "      <td>0.989648</td>\n",
       "      <td>0.888380</td>\n",
       "      <td>0.784997</td>\n",
       "      <td>0.007001</td>\n",
       "      <td>0.001640</td>\n",
       "      <td>0.616221</td>\n",
       "      <td>0.998180</td>\n",
       "      <td>DERMASON</td>\n",
       "    </tr>\n",
       "  </tbody>\n",
       "</table>\n",
       "<p>13611 rows × 17 columns</p>\n",
       "</div>"
      ],
      "text/plain": [
       "        Area  Perimeter  MajorAxisLength  MinorAxisLength  AspectRation  \\\n",
       "0      28395    610.291       208.178117       173.888747      1.197191   \n",
       "1      28734    638.018       200.524796       182.734419      1.097356   \n",
       "2      29380    624.110       212.826130       175.931143      1.209713   \n",
       "3      30008    645.884       210.557999       182.516516      1.153638   \n",
       "4      30140    620.134       201.847882       190.279279      1.060798   \n",
       "...      ...        ...              ...              ...           ...   \n",
       "13606  42097    759.696       288.721612       185.944705      1.552728   \n",
       "13607  42101    757.499       281.576392       190.713136      1.476439   \n",
       "13608  42139    759.321       281.539928       191.187979      1.472582   \n",
       "13609  42147    763.779       283.382636       190.275731      1.489326   \n",
       "13610  42159    772.237       295.142741       182.204716      1.619841   \n",
       "\n",
       "       Eccentricity  ConvexArea  EquivDiameter    Extent  Solidity  roundness  \\\n",
       "0          0.549812       28715     190.141097  0.763923  0.988856   0.958027   \n",
       "1          0.411785       29172     191.272750  0.783968  0.984986   0.887034   \n",
       "2          0.562727       29690     193.410904  0.778113  0.989559   0.947849   \n",
       "3          0.498616       30724     195.467062  0.782681  0.976696   0.903936   \n",
       "4          0.333680       30417     195.896503  0.773098  0.990893   0.984877   \n",
       "...             ...         ...            ...       ...       ...        ...   \n",
       "13606      0.765002       42508     231.515799  0.714574  0.990331   0.916603   \n",
       "13607      0.735702       42494     231.526798  0.799943  0.990752   0.922015   \n",
       "13608      0.734065       42569     231.631261  0.729932  0.989899   0.918424   \n",
       "13609      0.741055       42667     231.653248  0.705389  0.987813   0.907906   \n",
       "13610      0.786693       42600     231.686223  0.788962  0.989648   0.888380   \n",
       "\n",
       "       Compactness  ShapeFactor1  ShapeFactor2  ShapeFactor3  ShapeFactor4  \\\n",
       "0         0.913358      0.007332      0.003147      0.834222      0.998724   \n",
       "1         0.953861      0.006979      0.003564      0.909851      0.998430   \n",
       "2         0.908774      0.007244      0.003048      0.825871      0.999066   \n",
       "3         0.928329      0.007017      0.003215      0.861794      0.994199   \n",
       "4         0.970516      0.006697      0.003665      0.941900      0.999166   \n",
       "...            ...           ...           ...           ...           ...   \n",
       "13606     0.801865      0.006858      0.001749      0.642988      0.998385   \n",
       "13607     0.822252      0.006688      0.001886      0.676099      0.998219   \n",
       "13608     0.822730      0.006681      0.001888      0.676884      0.996767   \n",
       "13609     0.817457      0.006724      0.001852      0.668237      0.995222   \n",
       "13610     0.784997      0.007001      0.001640      0.616221      0.998180   \n",
       "\n",
       "          Class  \n",
       "0         SEKER  \n",
       "1         SEKER  \n",
       "2         SEKER  \n",
       "3         SEKER  \n",
       "4         SEKER  \n",
       "...         ...  \n",
       "13606  DERMASON  \n",
       "13607  DERMASON  \n",
       "13608  DERMASON  \n",
       "13609  DERMASON  \n",
       "13610  DERMASON  \n",
       "\n",
       "[13611 rows x 17 columns]"
      ]
     },
     "execution_count": 3,
     "metadata": {},
     "output_type": "execute_result"
    }
   ],
   "source": [
    "data"
   ]
  },
  {
   "cell_type": "code",
   "execution_count": null,
   "id": "6ce5dc48",
   "metadata": {
    "ExecuteTime": {
     "end_time": "2023-10-22T19:05:09.474356Z",
     "start_time": "2023-10-22T19:05:09.444759200Z"
    }
   },
   "outputs": [],
   "source": [
    "data.sample(5)"
   ]
  },
  {
   "cell_type": "code",
   "execution_count": null,
   "id": "07ed6ceb",
   "metadata": {},
   "outputs": [],
   "source": [
    "data['Class']"
   ]
  },
  {
   "cell_type": "code",
   "execution_count": null,
   "id": "6149c874",
   "metadata": {},
   "outputs": [],
   "source": [
    "#data.drop_duplicates()"
   ]
  },
  {
   "cell_type": "code",
   "execution_count": null,
   "id": "b2a1b603",
   "metadata": {
    "ExecuteTime": {
     "end_time": "2023-10-22T19:05:09.477355Z",
     "start_time": "2023-10-22T19:05:09.462590900Z"
    }
   },
   "outputs": [],
   "source": [
    "data.columns"
   ]
  },
  {
   "cell_type": "code",
   "execution_count": null,
   "id": "6920fa8b",
   "metadata": {
    "ExecuteTime": {
     "end_time": "2023-10-22T19:05:09.696048500Z",
     "start_time": "2023-10-22T19:05:09.532008200Z"
    },
    "scrolled": false
   },
   "outputs": [],
   "source": [
    "data.info()"
   ]
  },
  {
   "cell_type": "code",
   "execution_count": null,
   "id": "256a0244",
   "metadata": {
    "ExecuteTime": {
     "end_time": "2023-10-22T19:05:09.486516500Z",
     "start_time": "2023-10-22T19:05:09.472348200Z"
    },
    "scrolled": true
   },
   "outputs": [],
   "source": [
    "data.shape"
   ]
  },
  {
   "cell_type": "code",
   "execution_count": null,
   "id": "caa328d3",
   "metadata": {
    "ExecuteTime": {
     "end_time": "2023-10-22T19:05:09.672064100Z",
     "start_time": "2023-10-22T19:05:09.482511200Z"
    },
    "scrolled": false
   },
   "outputs": [],
   "source": [
    "data.describe().T"
   ]
  },
  {
   "cell_type": "code",
   "execution_count": null,
   "id": "40b29edd",
   "metadata": {
    "ExecuteTime": {
     "end_time": "2023-10-22T19:05:09.697044Z",
     "start_time": "2023-10-22T19:05:09.547022400Z"
    }
   },
   "outputs": [],
   "source": [
    "data.isnull().sum()"
   ]
  },
  {
   "cell_type": "code",
   "execution_count": null,
   "id": "5b0548cf",
   "metadata": {
    "ExecuteTime": {
     "end_time": "2023-10-22T19:05:09.698046200Z",
     "start_time": "2023-10-22T19:05:09.555563100Z"
    }
   },
   "outputs": [],
   "source": [
    "data['Class'].unique()"
   ]
  },
  {
   "cell_type": "code",
   "execution_count": null,
   "id": "e9b419d7",
   "metadata": {
    "ExecuteTime": {
     "end_time": "2023-10-22T19:05:09.749144300Z",
     "start_time": "2023-10-22T19:05:09.565539200Z"
    }
   },
   "outputs": [],
   "source": [
    "data[\"Class\"].value_counts()"
   ]
  },
  {
   "cell_type": "code",
   "execution_count": null,
   "id": "ac92e391",
   "metadata": {},
   "outputs": [],
   "source": [
    "sns.countplot(x='Class', data = data)"
   ]
  },
  {
   "cell_type": "code",
   "execution_count": 4,
   "id": "4cd1e62e",
   "metadata": {
    "ExecuteTime": {
     "end_time": "2023-10-22T19:05:09.749144300Z",
     "start_time": "2023-10-22T19:05:09.578203200Z"
    }
   },
   "outputs": [],
   "source": [
    "labelencoder = LabelEncoder()\n",
    "data[\"Class\"] = labelencoder.fit_transform(data['Class'])"
   ]
  },
  {
   "cell_type": "code",
   "execution_count": null,
   "id": "58ebc734",
   "metadata": {},
   "outputs": [],
   "source": [
    "data.corr()"
   ]
  },
  {
   "cell_type": "code",
   "execution_count": null,
   "id": "409c27a0",
   "metadata": {},
   "outputs": [],
   "source": [
    "#data.corr #corelasyon matrisi\n",
    "plt.figure(figsize=(12,12))\n",
    "sns.heatmap(data.corr(), annot=True, cmap=plt.cm.Purples)\n",
    "plt.show()"
   ]
  },
  {
   "cell_type": "code",
   "execution_count": null,
   "id": "fef8eb85",
   "metadata": {},
   "outputs": [],
   "source": [
    "data = data.drop_duplicates()"
   ]
  },
  {
   "cell_type": "code",
   "execution_count": 5,
   "id": "fdf9964c",
   "metadata": {
    "ExecuteTime": {
     "end_time": "2023-10-22T19:05:09.789232400Z",
     "start_time": "2023-10-22T19:05:09.586081400Z"
    }
   },
   "outputs": [],
   "source": [
    "x = data.iloc[:,0:16]#bağımsız değişken\n",
    "y = data.iloc[:,16:]#bağımlı değişken,tahmin değeri,class"
   ]
  },
  {
   "cell_type": "code",
   "execution_count": null,
   "id": "3b78f455",
   "metadata": {
    "ExecuteTime": {
     "end_time": "2023-10-22T19:05:09.791760600Z",
     "start_time": "2023-10-22T19:05:09.596866800Z"
    }
   },
   "outputs": [],
   "source": [
    "y"
   ]
  },
  {
   "cell_type": "code",
   "execution_count": null,
   "id": "6d6907bb",
   "metadata": {
    "ExecuteTime": {
     "end_time": "2023-10-22T19:05:09.864377500Z",
     "start_time": "2023-10-22T19:05:09.609702900Z"
    }
   },
   "outputs": [],
   "source": [
    "x"
   ]
  },
  {
   "cell_type": "code",
   "execution_count": 6,
   "id": "99e3e4d0",
   "metadata": {
    "ExecuteTime": {
     "end_time": "2023-10-22T19:05:09.865378600Z",
     "start_time": "2023-10-22T19:05:09.636823700Z"
    }
   },
   "outputs": [],
   "source": [
    "X_train, X_test, y_train, y_test = train_test_split(x,y,test_size = 0.33, random_state = 42)"
   ]
  },
  {
   "cell_type": "code",
   "execution_count": 7,
   "id": "dc3be43a",
   "metadata": {
    "ExecuteTime": {
     "end_time": "2023-10-22T19:05:09.866375Z",
     "start_time": "2023-10-22T19:05:09.646306400Z"
    }
   },
   "outputs": [],
   "source": [
    "standardscaler = StandardScaler()\n",
    "x_train = standardscaler.fit_transform(X_train)\n",
    "x_test = standardscaler.transform(X_test)"
   ]
  },
  {
   "cell_type": "markdown",
   "id": "1f4ffdde",
   "metadata": {},
   "source": [
    "# KNN "
   ]
  },
  {
   "cell_type": "code",
   "execution_count": 8,
   "id": "6c50de29",
   "metadata": {
    "ExecuteTime": {
     "end_time": "2023-10-22T19:05:09.876889700Z",
     "start_time": "2023-10-22T19:05:09.662544500Z"
    }
   },
   "outputs": [
    {
     "data": {
      "text/plain": [
       "array([5, 0, 5, ..., 1, 5, 4])"
      ]
     },
     "execution_count": 8,
     "metadata": {},
     "output_type": "execute_result"
    }
   ],
   "source": [
    "knn = KNeighborsClassifier(n_neighbors = 35) #,metric = 'manhattan')\n",
    "knn.fit(x_train,y_train.values.ravel())\n",
    "knn_y_predict = knn.predict(x_test)\n",
    "knn_y_predict"
   ]
  },
  {
   "cell_type": "code",
   "execution_count": 9,
   "id": "7512dd7f",
   "metadata": {},
   "outputs": [
    {
     "data": {
      "text/plain": [
       "0.9227515583259127"
      ]
     },
     "execution_count": 9,
     "metadata": {},
     "output_type": "execute_result"
    }
   ],
   "source": [
    "accuracy = accuracy_score(y_test,knn_y_predict)\n",
    "accuracy"
   ]
  },
  {
   "cell_type": "code",
   "execution_count": null,
   "id": "a4c3d98e",
   "metadata": {},
   "outputs": [],
   "source": [
    "cm = confusion_matrix(y_test,knn_y_predict)\n",
    "cm"
   ]
  },
  {
   "cell_type": "markdown",
   "id": "1f6a147e",
   "metadata": {},
   "source": [
    "# GAUSSİANNAİVEBAYES"
   ]
  },
  {
   "cell_type": "code",
   "execution_count": null,
   "id": "968c2887",
   "metadata": {},
   "outputs": [],
   "source": [
    "gnb = GaussianNB()\n",
    "gnb.fit(x_train,y_train.values.ravel())\n",
    "gnb_y_predict = gnb.predict(x_test)\n",
    "gnb_y_predict"
   ]
  },
  {
   "cell_type": "code",
   "execution_count": null,
   "id": "13f8ec2e",
   "metadata": {},
   "outputs": [],
   "source": [
    "accuracy = accuracy_score(y_test,gnb_y_predict)\n",
    "accuracy"
   ]
  },
  {
   "cell_type": "code",
   "execution_count": null,
   "id": "bb973ee8",
   "metadata": {},
   "outputs": [],
   "source": [
    "cm = confusion_matrix(y_test,gnb_y_predict)\n",
    "cm"
   ]
  },
  {
   "cell_type": "markdown",
   "id": "710418ab",
   "metadata": {},
   "source": [
    "# LOGİSTİC REGRESSİON"
   ]
  },
  {
   "cell_type": "code",
   "execution_count": null,
   "id": "57dadf77",
   "metadata": {},
   "outputs": [],
   "source": [
    "logisticreg = LogisticRegression(random_state=0,solver='lbfgs', max_iter=1000)\n",
    "logisticreg.fit(x_train,y_train.values.ravel())\n",
    "logisticreg_y_predict = logisticreg.predict(x_test)\n",
    "logisticreg_y_predict"
   ]
  },
  {
   "cell_type": "code",
   "execution_count": null,
   "id": "7ff1984c",
   "metadata": {},
   "outputs": [],
   "source": [
    "accuracy = accuracy_score(y_test,logisticreg_y_predict)\n",
    "accuracy"
   ]
  },
  {
   "cell_type": "code",
   "execution_count": null,
   "id": "5d3c1771",
   "metadata": {},
   "outputs": [],
   "source": [
    "cm = confusion_matrix(y_test,logisticreg_y_predict)\n",
    "cm"
   ]
  },
  {
   "cell_type": "markdown",
   "id": "0ec971c4",
   "metadata": {},
   "source": [
    "# SUPPORT VECTOR MACHİNE"
   ]
  },
  {
   "cell_type": "code",
   "execution_count": null,
   "id": "35cea2ec",
   "metadata": {},
   "outputs": [],
   "source": [
    "supportvector = SVC(kernel=\"rbf\")\n",
    "supportvector.fit(x_train,y_train.values.ravel())\n",
    "supportvector_y_predict = supportvector.predict(x_test)\n",
    "supportvector_y_predict"
   ]
  },
  {
   "cell_type": "code",
   "execution_count": null,
   "id": "49f3ab25",
   "metadata": {},
   "outputs": [],
   "source": [
    "accuracy = accuracy_score(y_test,supportvector_y_predict)\n",
    "accuracy"
   ]
  },
  {
   "cell_type": "code",
   "execution_count": null,
   "id": "c9e2931a",
   "metadata": {},
   "outputs": [],
   "source": [
    "cm = confusion_matrix(y_test,supportvector_y_predict)\n",
    "cm"
   ]
  },
  {
   "cell_type": "markdown",
   "id": "be876326",
   "metadata": {},
   "source": [
    "# BOYUT İNDİRGEME"
   ]
  },
  {
   "cell_type": "code",
   "execution_count": 10,
   "id": "a552c975",
   "metadata": {},
   "outputs": [],
   "source": [
    "pca = PCA(n_components=8)\n",
    "pca.fit(x)\n",
    "x_pca = pca.transform(x)\n",
    "transformed_data = pd.DataFrame(x_pca)"
   ]
  },
  {
   "cell_type": "code",
   "execution_count": 16,
   "id": "4c714cb5",
   "metadata": {},
   "outputs": [],
   "source": [
    "x = transformed_data"
   ]
  },
  {
   "cell_type": "code",
   "execution_count": 17,
   "id": "c4a9eb30",
   "metadata": {},
   "outputs": [],
   "source": [
    "X_train, X_test, y_train, y_test = train_test_split(x,y,test_size = 0.33, random_state = 42)"
   ]
  },
  {
   "cell_type": "code",
   "execution_count": 19,
   "id": "bd874fa3",
   "metadata": {},
   "outputs": [],
   "source": [
    "x_train = standardscaler.fit_transform(X_train)\n",
    "x_test = standardscaler.transform(X_test)"
   ]
  },
  {
   "cell_type": "code",
   "execution_count": 20,
   "id": "78828cdb",
   "metadata": {},
   "outputs": [
    {
     "data": {
      "text/plain": [
       "array([5, 0, 5, ..., 1, 5, 4])"
      ]
     },
     "execution_count": 20,
     "metadata": {},
     "output_type": "execute_result"
    }
   ],
   "source": [
    "knn = KNeighborsClassifier(n_neighbors = 35) #,metric = 'manhattan')\n",
    "knn.fit(x_train,y_train.values.ravel())\n",
    "y_predict = knn.predict(x_test)\n",
    "y_predict"
   ]
  },
  {
   "cell_type": "code",
   "execution_count": 21,
   "id": "b46189f1",
   "metadata": {},
   "outputs": [
    {
     "data": {
      "text/plain": [
       "0.9196349065004452"
      ]
     },
     "execution_count": 21,
     "metadata": {},
     "output_type": "execute_result"
    }
   ],
   "source": [
    "accuracy = accuracy_score(y_test,y_predict)\n",
    "accuracy"
   ]
  },
  {
   "cell_type": "code",
   "execution_count": null,
   "id": "b575581d",
   "metadata": {},
   "outputs": [],
   "source": []
  }
 ],
 "metadata": {
  "kernelspec": {
   "display_name": "Python 3 (ipykernel)",
   "language": "python",
   "name": "python3"
  },
  "language_info": {
   "codemirror_mode": {
    "name": "ipython",
    "version": 3
   },
   "file_extension": ".py",
   "mimetype": "text/x-python",
   "name": "python",
   "nbconvert_exporter": "python",
   "pygments_lexer": "ipython3",
   "version": "3.11.5"
  }
 },
 "nbformat": 4,
 "nbformat_minor": 5
}
