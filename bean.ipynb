{
 "cells": [
  {
   "cell_type": "code",
   "execution_count": 1,
   "id": "daf39573",
   "metadata": {
    "ExecuteTime": {
     "end_time": "2023-10-22T19:05:06.608830700Z",
     "start_time": "2023-10-22T19:05:06.205216Z"
    }
   },
   "outputs": [],
   "source": [
    "import numpy as np\n",
    "import pandas as pd\n",
    "import seaborn as sns\n",
    "import matplotlib.pyplot as plt\n",
    "from sklearn.preprocessing import LabelEncoder\n",
    "from sklearn.model_selection import train_test_split\n",
    "from sklearn.preprocessing import StandardScaler\n",
    "from sklearn.decomposition import PCA\n",
    "from sklearn.neighbors import KNeighborsClassifier\n",
    "from sklearn.naive_bayes import GaussianNB\n",
    "from sklearn.linear_model import LogisticRegression\n",
    "from sklearn.svm import SVC\n",
    "from sklearn.ensemble import RandomForestClassifier\n",
    "from sklearn.tree import DecisionTreeClassifier\n",
    "from sklearn.metrics import confusion_matrix\n",
    "from sklearn.metrics import accuracy_score"
   ]
  },
  {
   "cell_type": "code",
   "execution_count": 2,
   "id": "c71ff35d",
   "metadata": {
    "ExecuteTime": {
     "end_time": "2023-10-22T19:05:09.412806300Z",
     "start_time": "2023-10-22T19:05:06.608830700Z"
    },
    "scrolled": true
   },
   "outputs": [],
   "source": [
    "data = pd.read_excel('bean.xlsx')"
   ]
  },
  {
   "cell_type": "code",
   "execution_count": 3,
   "id": "58759be2",
   "metadata": {
    "ExecuteTime": {
     "end_time": "2023-10-22T19:05:09.472348200Z",
     "start_time": "2023-10-22T19:05:09.418816500Z"
    }
   },
   "outputs": [
    {
     "data": {
      "text/html": [
       "<div>\n",
       "<style scoped>\n",
       "    .dataframe tbody tr th:only-of-type {\n",
       "        vertical-align: middle;\n",
       "    }\n",
       "\n",
       "    .dataframe tbody tr th {\n",
       "        vertical-align: top;\n",
       "    }\n",
       "\n",
       "    .dataframe thead th {\n",
       "        text-align: right;\n",
       "    }\n",
       "</style>\n",
       "<table border=\"1\" class=\"dataframe\">\n",
       "  <thead>\n",
       "    <tr style=\"text-align: right;\">\n",
       "      <th></th>\n",
       "      <th>Area</th>\n",
       "      <th>Perimeter</th>\n",
       "      <th>MajorAxisLength</th>\n",
       "      <th>MinorAxisLength</th>\n",
       "      <th>AspectRation</th>\n",
       "      <th>Eccentricity</th>\n",
       "      <th>ConvexArea</th>\n",
       "      <th>EquivDiameter</th>\n",
       "      <th>Extent</th>\n",
       "      <th>Solidity</th>\n",
       "      <th>roundness</th>\n",
       "      <th>Compactness</th>\n",
       "      <th>ShapeFactor1</th>\n",
       "      <th>ShapeFactor2</th>\n",
       "      <th>ShapeFactor3</th>\n",
       "      <th>ShapeFactor4</th>\n",
       "      <th>Class</th>\n",
       "    </tr>\n",
       "  </thead>\n",
       "  <tbody>\n",
       "    <tr>\n",
       "      <th>0</th>\n",
       "      <td>28395</td>\n",
       "      <td>610.291</td>\n",
       "      <td>208.178117</td>\n",
       "      <td>173.888747</td>\n",
       "      <td>1.197191</td>\n",
       "      <td>0.549812</td>\n",
       "      <td>28715</td>\n",
       "      <td>190.141097</td>\n",
       "      <td>0.763923</td>\n",
       "      <td>0.988856</td>\n",
       "      <td>0.958027</td>\n",
       "      <td>0.913358</td>\n",
       "      <td>0.007332</td>\n",
       "      <td>0.003147</td>\n",
       "      <td>0.834222</td>\n",
       "      <td>0.998724</td>\n",
       "      <td>SEKER</td>\n",
       "    </tr>\n",
       "    <tr>\n",
       "      <th>1</th>\n",
       "      <td>28734</td>\n",
       "      <td>638.018</td>\n",
       "      <td>200.524796</td>\n",
       "      <td>182.734419</td>\n",
       "      <td>1.097356</td>\n",
       "      <td>0.411785</td>\n",
       "      <td>29172</td>\n",
       "      <td>191.272750</td>\n",
       "      <td>0.783968</td>\n",
       "      <td>0.984986</td>\n",
       "      <td>0.887034</td>\n",
       "      <td>0.953861</td>\n",
       "      <td>0.006979</td>\n",
       "      <td>0.003564</td>\n",
       "      <td>0.909851</td>\n",
       "      <td>0.998430</td>\n",
       "      <td>SEKER</td>\n",
       "    </tr>\n",
       "    <tr>\n",
       "      <th>2</th>\n",
       "      <td>29380</td>\n",
       "      <td>624.110</td>\n",
       "      <td>212.826130</td>\n",
       "      <td>175.931143</td>\n",
       "      <td>1.209713</td>\n",
       "      <td>0.562727</td>\n",
       "      <td>29690</td>\n",
       "      <td>193.410904</td>\n",
       "      <td>0.778113</td>\n",
       "      <td>0.989559</td>\n",
       "      <td>0.947849</td>\n",
       "      <td>0.908774</td>\n",
       "      <td>0.007244</td>\n",
       "      <td>0.003048</td>\n",
       "      <td>0.825871</td>\n",
       "      <td>0.999066</td>\n",
       "      <td>SEKER</td>\n",
       "    </tr>\n",
       "    <tr>\n",
       "      <th>3</th>\n",
       "      <td>30008</td>\n",
       "      <td>645.884</td>\n",
       "      <td>210.557999</td>\n",
       "      <td>182.516516</td>\n",
       "      <td>1.153638</td>\n",
       "      <td>0.498616</td>\n",
       "      <td>30724</td>\n",
       "      <td>195.467062</td>\n",
       "      <td>0.782681</td>\n",
       "      <td>0.976696</td>\n",
       "      <td>0.903936</td>\n",
       "      <td>0.928329</td>\n",
       "      <td>0.007017</td>\n",
       "      <td>0.003215</td>\n",
       "      <td>0.861794</td>\n",
       "      <td>0.994199</td>\n",
       "      <td>SEKER</td>\n",
       "    </tr>\n",
       "    <tr>\n",
       "      <th>4</th>\n",
       "      <td>30140</td>\n",
       "      <td>620.134</td>\n",
       "      <td>201.847882</td>\n",
       "      <td>190.279279</td>\n",
       "      <td>1.060798</td>\n",
       "      <td>0.333680</td>\n",
       "      <td>30417</td>\n",
       "      <td>195.896503</td>\n",
       "      <td>0.773098</td>\n",
       "      <td>0.990893</td>\n",
       "      <td>0.984877</td>\n",
       "      <td>0.970516</td>\n",
       "      <td>0.006697</td>\n",
       "      <td>0.003665</td>\n",
       "      <td>0.941900</td>\n",
       "      <td>0.999166</td>\n",
       "      <td>SEKER</td>\n",
       "    </tr>\n",
       "    <tr>\n",
       "      <th>...</th>\n",
       "      <td>...</td>\n",
       "      <td>...</td>\n",
       "      <td>...</td>\n",
       "      <td>...</td>\n",
       "      <td>...</td>\n",
       "      <td>...</td>\n",
       "      <td>...</td>\n",
       "      <td>...</td>\n",
       "      <td>...</td>\n",
       "      <td>...</td>\n",
       "      <td>...</td>\n",
       "      <td>...</td>\n",
       "      <td>...</td>\n",
       "      <td>...</td>\n",
       "      <td>...</td>\n",
       "      <td>...</td>\n",
       "      <td>...</td>\n",
       "    </tr>\n",
       "    <tr>\n",
       "      <th>13606</th>\n",
       "      <td>42097</td>\n",
       "      <td>759.696</td>\n",
       "      <td>288.721612</td>\n",
       "      <td>185.944705</td>\n",
       "      <td>1.552728</td>\n",
       "      <td>0.765002</td>\n",
       "      <td>42508</td>\n",
       "      <td>231.515799</td>\n",
       "      <td>0.714574</td>\n",
       "      <td>0.990331</td>\n",
       "      <td>0.916603</td>\n",
       "      <td>0.801865</td>\n",
       "      <td>0.006858</td>\n",
       "      <td>0.001749</td>\n",
       "      <td>0.642988</td>\n",
       "      <td>0.998385</td>\n",
       "      <td>DERMASON</td>\n",
       "    </tr>\n",
       "    <tr>\n",
       "      <th>13607</th>\n",
       "      <td>42101</td>\n",
       "      <td>757.499</td>\n",
       "      <td>281.576392</td>\n",
       "      <td>190.713136</td>\n",
       "      <td>1.476439</td>\n",
       "      <td>0.735702</td>\n",
       "      <td>42494</td>\n",
       "      <td>231.526798</td>\n",
       "      <td>0.799943</td>\n",
       "      <td>0.990752</td>\n",
       "      <td>0.922015</td>\n",
       "      <td>0.822252</td>\n",
       "      <td>0.006688</td>\n",
       "      <td>0.001886</td>\n",
       "      <td>0.676099</td>\n",
       "      <td>0.998219</td>\n",
       "      <td>DERMASON</td>\n",
       "    </tr>\n",
       "    <tr>\n",
       "      <th>13608</th>\n",
       "      <td>42139</td>\n",
       "      <td>759.321</td>\n",
       "      <td>281.539928</td>\n",
       "      <td>191.187979</td>\n",
       "      <td>1.472582</td>\n",
       "      <td>0.734065</td>\n",
       "      <td>42569</td>\n",
       "      <td>231.631261</td>\n",
       "      <td>0.729932</td>\n",
       "      <td>0.989899</td>\n",
       "      <td>0.918424</td>\n",
       "      <td>0.822730</td>\n",
       "      <td>0.006681</td>\n",
       "      <td>0.001888</td>\n",
       "      <td>0.676884</td>\n",
       "      <td>0.996767</td>\n",
       "      <td>DERMASON</td>\n",
       "    </tr>\n",
       "    <tr>\n",
       "      <th>13609</th>\n",
       "      <td>42147</td>\n",
       "      <td>763.779</td>\n",
       "      <td>283.382636</td>\n",
       "      <td>190.275731</td>\n",
       "      <td>1.489326</td>\n",
       "      <td>0.741055</td>\n",
       "      <td>42667</td>\n",
       "      <td>231.653248</td>\n",
       "      <td>0.705389</td>\n",
       "      <td>0.987813</td>\n",
       "      <td>0.907906</td>\n",
       "      <td>0.817457</td>\n",
       "      <td>0.006724</td>\n",
       "      <td>0.001852</td>\n",
       "      <td>0.668237</td>\n",
       "      <td>0.995222</td>\n",
       "      <td>DERMASON</td>\n",
       "    </tr>\n",
       "    <tr>\n",
       "      <th>13610</th>\n",
       "      <td>42159</td>\n",
       "      <td>772.237</td>\n",
       "      <td>295.142741</td>\n",
       "      <td>182.204716</td>\n",
       "      <td>1.619841</td>\n",
       "      <td>0.786693</td>\n",
       "      <td>42600</td>\n",
       "      <td>231.686223</td>\n",
       "      <td>0.788962</td>\n",
       "      <td>0.989648</td>\n",
       "      <td>0.888380</td>\n",
       "      <td>0.784997</td>\n",
       "      <td>0.007001</td>\n",
       "      <td>0.001640</td>\n",
       "      <td>0.616221</td>\n",
       "      <td>0.998180</td>\n",
       "      <td>DERMASON</td>\n",
       "    </tr>\n",
       "  </tbody>\n",
       "</table>\n",
       "<p>13611 rows × 17 columns</p>\n",
       "</div>"
      ],
      "text/plain": [
       "        Area  Perimeter  MajorAxisLength  MinorAxisLength  AspectRation  \\\n",
       "0      28395    610.291       208.178117       173.888747      1.197191   \n",
       "1      28734    638.018       200.524796       182.734419      1.097356   \n",
       "2      29380    624.110       212.826130       175.931143      1.209713   \n",
       "3      30008    645.884       210.557999       182.516516      1.153638   \n",
       "4      30140    620.134       201.847882       190.279279      1.060798   \n",
       "...      ...        ...              ...              ...           ...   \n",
       "13606  42097    759.696       288.721612       185.944705      1.552728   \n",
       "13607  42101    757.499       281.576392       190.713136      1.476439   \n",
       "13608  42139    759.321       281.539928       191.187979      1.472582   \n",
       "13609  42147    763.779       283.382636       190.275731      1.489326   \n",
       "13610  42159    772.237       295.142741       182.204716      1.619841   \n",
       "\n",
       "       Eccentricity  ConvexArea  EquivDiameter    Extent  Solidity  roundness  \\\n",
       "0          0.549812       28715     190.141097  0.763923  0.988856   0.958027   \n",
       "1          0.411785       29172     191.272750  0.783968  0.984986   0.887034   \n",
       "2          0.562727       29690     193.410904  0.778113  0.989559   0.947849   \n",
       "3          0.498616       30724     195.467062  0.782681  0.976696   0.903936   \n",
       "4          0.333680       30417     195.896503  0.773098  0.990893   0.984877   \n",
       "...             ...         ...            ...       ...       ...        ...   \n",
       "13606      0.765002       42508     231.515799  0.714574  0.990331   0.916603   \n",
       "13607      0.735702       42494     231.526798  0.799943  0.990752   0.922015   \n",
       "13608      0.734065       42569     231.631261  0.729932  0.989899   0.918424   \n",
       "13609      0.741055       42667     231.653248  0.705389  0.987813   0.907906   \n",
       "13610      0.786693       42600     231.686223  0.788962  0.989648   0.888380   \n",
       "\n",
       "       Compactness  ShapeFactor1  ShapeFactor2  ShapeFactor3  ShapeFactor4  \\\n",
       "0         0.913358      0.007332      0.003147      0.834222      0.998724   \n",
       "1         0.953861      0.006979      0.003564      0.909851      0.998430   \n",
       "2         0.908774      0.007244      0.003048      0.825871      0.999066   \n",
       "3         0.928329      0.007017      0.003215      0.861794      0.994199   \n",
       "4         0.970516      0.006697      0.003665      0.941900      0.999166   \n",
       "...            ...           ...           ...           ...           ...   \n",
       "13606     0.801865      0.006858      0.001749      0.642988      0.998385   \n",
       "13607     0.822252      0.006688      0.001886      0.676099      0.998219   \n",
       "13608     0.822730      0.006681      0.001888      0.676884      0.996767   \n",
       "13609     0.817457      0.006724      0.001852      0.668237      0.995222   \n",
       "13610     0.784997      0.007001      0.001640      0.616221      0.998180   \n",
       "\n",
       "          Class  \n",
       "0         SEKER  \n",
       "1         SEKER  \n",
       "2         SEKER  \n",
       "3         SEKER  \n",
       "4         SEKER  \n",
       "...         ...  \n",
       "13606  DERMASON  \n",
       "13607  DERMASON  \n",
       "13608  DERMASON  \n",
       "13609  DERMASON  \n",
       "13610  DERMASON  \n",
       "\n",
       "[13611 rows x 17 columns]"
      ]
     },
     "execution_count": 3,
     "metadata": {},
     "output_type": "execute_result"
    }
   ],
   "source": [
    "data"
   ]
  },
  {
   "cell_type": "code",
   "execution_count": 4,
   "id": "6ce5dc48",
   "metadata": {
    "ExecuteTime": {
     "end_time": "2023-10-22T19:05:09.474356Z",
     "start_time": "2023-10-22T19:05:09.444759200Z"
    }
   },
   "outputs": [
    {
     "data": {
      "text/html": [
       "<div>\n",
       "<style scoped>\n",
       "    .dataframe tbody tr th:only-of-type {\n",
       "        vertical-align: middle;\n",
       "    }\n",
       "\n",
       "    .dataframe tbody tr th {\n",
       "        vertical-align: top;\n",
       "    }\n",
       "\n",
       "    .dataframe thead th {\n",
       "        text-align: right;\n",
       "    }\n",
       "</style>\n",
       "<table border=\"1\" class=\"dataframe\">\n",
       "  <thead>\n",
       "    <tr style=\"text-align: right;\">\n",
       "      <th></th>\n",
       "      <th>Area</th>\n",
       "      <th>Perimeter</th>\n",
       "      <th>MajorAxisLength</th>\n",
       "      <th>MinorAxisLength</th>\n",
       "      <th>AspectRation</th>\n",
       "      <th>Eccentricity</th>\n",
       "      <th>ConvexArea</th>\n",
       "      <th>EquivDiameter</th>\n",
       "      <th>Extent</th>\n",
       "      <th>Solidity</th>\n",
       "      <th>roundness</th>\n",
       "      <th>Compactness</th>\n",
       "      <th>ShapeFactor1</th>\n",
       "      <th>ShapeFactor2</th>\n",
       "      <th>ShapeFactor3</th>\n",
       "      <th>ShapeFactor4</th>\n",
       "      <th>Class</th>\n",
       "    </tr>\n",
       "  </thead>\n",
       "  <tbody>\n",
       "    <tr>\n",
       "      <th>8071</th>\n",
       "      <td>41546</td>\n",
       "      <td>752.073</td>\n",
       "      <td>274.516221</td>\n",
       "      <td>193.011779</td>\n",
       "      <td>1.422277</td>\n",
       "      <td>0.711093</td>\n",
       "      <td>41999</td>\n",
       "      <td>229.995674</td>\n",
       "      <td>0.779065</td>\n",
       "      <td>0.989214</td>\n",
       "      <td>0.923037</td>\n",
       "      <td>0.837822</td>\n",
       "      <td>0.006608</td>\n",
       "      <td>0.002008</td>\n",
       "      <td>0.701945</td>\n",
       "      <td>0.998361</td>\n",
       "      <td>SIRA</td>\n",
       "    </tr>\n",
       "    <tr>\n",
       "      <th>5928</th>\n",
       "      <td>48287</td>\n",
       "      <td>869.941</td>\n",
       "      <td>343.725515</td>\n",
       "      <td>180.004646</td>\n",
       "      <td>1.909537</td>\n",
       "      <td>0.851911</td>\n",
       "      <td>49001</td>\n",
       "      <td>247.953459</td>\n",
       "      <td>0.665110</td>\n",
       "      <td>0.985429</td>\n",
       "      <td>0.801790</td>\n",
       "      <td>0.721371</td>\n",
       "      <td>0.007118</td>\n",
       "      <td>0.001189</td>\n",
       "      <td>0.520375</td>\n",
       "      <td>0.993676</td>\n",
       "      <td>HOROZ</td>\n",
       "    </tr>\n",
       "    <tr>\n",
       "      <th>11495</th>\n",
       "      <td>30612</td>\n",
       "      <td>652.526</td>\n",
       "      <td>241.311755</td>\n",
       "      <td>161.932370</td>\n",
       "      <td>1.490201</td>\n",
       "      <td>0.741412</td>\n",
       "      <td>31020</td>\n",
       "      <td>197.424439</td>\n",
       "      <td>0.768759</td>\n",
       "      <td>0.986847</td>\n",
       "      <td>0.903454</td>\n",
       "      <td>0.818130</td>\n",
       "      <td>0.007883</td>\n",
       "      <td>0.002178</td>\n",
       "      <td>0.669337</td>\n",
       "      <td>0.997447</td>\n",
       "      <td>DERMASON</td>\n",
       "    </tr>\n",
       "    <tr>\n",
       "      <th>4926</th>\n",
       "      <td>78075</td>\n",
       "      <td>1087.899</td>\n",
       "      <td>421.520930</td>\n",
       "      <td>237.685964</td>\n",
       "      <td>1.773436</td>\n",
       "      <td>0.825859</td>\n",
       "      <td>79019</td>\n",
       "      <td>315.290624</td>\n",
       "      <td>0.770335</td>\n",
       "      <td>0.988054</td>\n",
       "      <td>0.828981</td>\n",
       "      <td>0.747983</td>\n",
       "      <td>0.005399</td>\n",
       "      <td>0.001042</td>\n",
       "      <td>0.559479</td>\n",
       "      <td>0.992200</td>\n",
       "      <td>CALI</td>\n",
       "    </tr>\n",
       "    <tr>\n",
       "      <th>12102</th>\n",
       "      <td>32990</td>\n",
       "      <td>670.713</td>\n",
       "      <td>245.642341</td>\n",
       "      <td>171.273678</td>\n",
       "      <td>1.434210</td>\n",
       "      <td>0.716830</td>\n",
       "      <td>33358</td>\n",
       "      <td>204.949195</td>\n",
       "      <td>0.742349</td>\n",
       "      <td>0.988968</td>\n",
       "      <td>0.921550</td>\n",
       "      <td>0.834340</td>\n",
       "      <td>0.007446</td>\n",
       "      <td>0.002226</td>\n",
       "      <td>0.696123</td>\n",
       "      <td>0.998386</td>\n",
       "      <td>DERMASON</td>\n",
       "    </tr>\n",
       "  </tbody>\n",
       "</table>\n",
       "</div>"
      ],
      "text/plain": [
       "        Area  Perimeter  MajorAxisLength  MinorAxisLength  AspectRation  \\\n",
       "8071   41546    752.073       274.516221       193.011779      1.422277   \n",
       "5928   48287    869.941       343.725515       180.004646      1.909537   \n",
       "11495  30612    652.526       241.311755       161.932370      1.490201   \n",
       "4926   78075   1087.899       421.520930       237.685964      1.773436   \n",
       "12102  32990    670.713       245.642341       171.273678      1.434210   \n",
       "\n",
       "       Eccentricity  ConvexArea  EquivDiameter    Extent  Solidity  roundness  \\\n",
       "8071       0.711093       41999     229.995674  0.779065  0.989214   0.923037   \n",
       "5928       0.851911       49001     247.953459  0.665110  0.985429   0.801790   \n",
       "11495      0.741412       31020     197.424439  0.768759  0.986847   0.903454   \n",
       "4926       0.825859       79019     315.290624  0.770335  0.988054   0.828981   \n",
       "12102      0.716830       33358     204.949195  0.742349  0.988968   0.921550   \n",
       "\n",
       "       Compactness  ShapeFactor1  ShapeFactor2  ShapeFactor3  ShapeFactor4  \\\n",
       "8071      0.837822      0.006608      0.002008      0.701945      0.998361   \n",
       "5928      0.721371      0.007118      0.001189      0.520375      0.993676   \n",
       "11495     0.818130      0.007883      0.002178      0.669337      0.997447   \n",
       "4926      0.747983      0.005399      0.001042      0.559479      0.992200   \n",
       "12102     0.834340      0.007446      0.002226      0.696123      0.998386   \n",
       "\n",
       "          Class  \n",
       "8071       SIRA  \n",
       "5928      HOROZ  \n",
       "11495  DERMASON  \n",
       "4926       CALI  \n",
       "12102  DERMASON  "
      ]
     },
     "execution_count": 4,
     "metadata": {},
     "output_type": "execute_result"
    }
   ],
   "source": [
    "data.sample(5)"
   ]
  },
  {
   "cell_type": "code",
   "execution_count": 5,
   "id": "07ed6ceb",
   "metadata": {},
   "outputs": [
    {
     "data": {
      "text/plain": [
       "0           SEKER\n",
       "1           SEKER\n",
       "2           SEKER\n",
       "3           SEKER\n",
       "4           SEKER\n",
       "           ...   \n",
       "13606    DERMASON\n",
       "13607    DERMASON\n",
       "13608    DERMASON\n",
       "13609    DERMASON\n",
       "13610    DERMASON\n",
       "Name: Class, Length: 13611, dtype: object"
      ]
     },
     "execution_count": 5,
     "metadata": {},
     "output_type": "execute_result"
    }
   ],
   "source": [
    "data['Class']"
   ]
  },
  {
   "cell_type": "code",
   "execution_count": 6,
   "id": "6149c874",
   "metadata": {},
   "outputs": [],
   "source": [
    "#data.drop_duplicates()"
   ]
  },
  {
   "cell_type": "code",
   "execution_count": 7,
   "id": "b2a1b603",
   "metadata": {
    "ExecuteTime": {
     "end_time": "2023-10-22T19:05:09.477355Z",
     "start_time": "2023-10-22T19:05:09.462590900Z"
    }
   },
   "outputs": [
    {
     "data": {
      "text/plain": [
       "Index(['Area', 'Perimeter', 'MajorAxisLength', 'MinorAxisLength',\n",
       "       'AspectRation', 'Eccentricity', 'ConvexArea', 'EquivDiameter', 'Extent',\n",
       "       'Solidity', 'roundness', 'Compactness', 'ShapeFactor1', 'ShapeFactor2',\n",
       "       'ShapeFactor3', 'ShapeFactor4', 'Class'],\n",
       "      dtype='object')"
      ]
     },
     "execution_count": 7,
     "metadata": {},
     "output_type": "execute_result"
    }
   ],
   "source": [
    "data.columns"
   ]
  },
  {
   "cell_type": "code",
   "execution_count": 8,
   "id": "6920fa8b",
   "metadata": {
    "ExecuteTime": {
     "end_time": "2023-10-22T19:05:09.696048500Z",
     "start_time": "2023-10-22T19:05:09.532008200Z"
    },
    "scrolled": false
   },
   "outputs": [
    {
     "name": "stdout",
     "output_type": "stream",
     "text": [
      "<class 'pandas.core.frame.DataFrame'>\n",
      "RangeIndex: 13611 entries, 0 to 13610\n",
      "Data columns (total 17 columns):\n",
      " #   Column           Non-Null Count  Dtype  \n",
      "---  ------           --------------  -----  \n",
      " 0   Area             13611 non-null  int64  \n",
      " 1   Perimeter        13611 non-null  float64\n",
      " 2   MajorAxisLength  13611 non-null  float64\n",
      " 3   MinorAxisLength  13611 non-null  float64\n",
      " 4   AspectRation     13611 non-null  float64\n",
      " 5   Eccentricity     13611 non-null  float64\n",
      " 6   ConvexArea       13611 non-null  int64  \n",
      " 7   EquivDiameter    13611 non-null  float64\n",
      " 8   Extent           13611 non-null  float64\n",
      " 9   Solidity         13611 non-null  float64\n",
      " 10  roundness        13611 non-null  float64\n",
      " 11  Compactness      13611 non-null  float64\n",
      " 12  ShapeFactor1     13611 non-null  float64\n",
      " 13  ShapeFactor2     13611 non-null  float64\n",
      " 14  ShapeFactor3     13611 non-null  float64\n",
      " 15  ShapeFactor4     13611 non-null  float64\n",
      " 16  Class            13611 non-null  object \n",
      "dtypes: float64(14), int64(2), object(1)\n",
      "memory usage: 1.8+ MB\n"
     ]
    }
   ],
   "source": [
    "data.info()"
   ]
  },
  {
   "cell_type": "code",
   "execution_count": 9,
   "id": "256a0244",
   "metadata": {
    "ExecuteTime": {
     "end_time": "2023-10-22T19:05:09.486516500Z",
     "start_time": "2023-10-22T19:05:09.472348200Z"
    },
    "scrolled": true
   },
   "outputs": [
    {
     "data": {
      "text/plain": [
       "(13611, 17)"
      ]
     },
     "execution_count": 9,
     "metadata": {},
     "output_type": "execute_result"
    }
   ],
   "source": [
    "data.shape"
   ]
  },
  {
   "cell_type": "code",
   "execution_count": 10,
   "id": "caa328d3",
   "metadata": {
    "ExecuteTime": {
     "end_time": "2023-10-22T19:05:09.672064100Z",
     "start_time": "2023-10-22T19:05:09.482511200Z"
    },
    "scrolled": false
   },
   "outputs": [
    {
     "data": {
      "text/html": [
       "<div>\n",
       "<style scoped>\n",
       "    .dataframe tbody tr th:only-of-type {\n",
       "        vertical-align: middle;\n",
       "    }\n",
       "\n",
       "    .dataframe tbody tr th {\n",
       "        vertical-align: top;\n",
       "    }\n",
       "\n",
       "    .dataframe thead th {\n",
       "        text-align: right;\n",
       "    }\n",
       "</style>\n",
       "<table border=\"1\" class=\"dataframe\">\n",
       "  <thead>\n",
       "    <tr style=\"text-align: right;\">\n",
       "      <th></th>\n",
       "      <th>count</th>\n",
       "      <th>mean</th>\n",
       "      <th>std</th>\n",
       "      <th>min</th>\n",
       "      <th>25%</th>\n",
       "      <th>50%</th>\n",
       "      <th>75%</th>\n",
       "      <th>max</th>\n",
       "    </tr>\n",
       "  </thead>\n",
       "  <tbody>\n",
       "    <tr>\n",
       "      <th>Area</th>\n",
       "      <td>13611.0</td>\n",
       "      <td>53048.284549</td>\n",
       "      <td>29324.095717</td>\n",
       "      <td>20420.000000</td>\n",
       "      <td>36328.000000</td>\n",
       "      <td>44652.000000</td>\n",
       "      <td>61332.000000</td>\n",
       "      <td>254616.000000</td>\n",
       "    </tr>\n",
       "    <tr>\n",
       "      <th>Perimeter</th>\n",
       "      <td>13611.0</td>\n",
       "      <td>855.283459</td>\n",
       "      <td>214.289696</td>\n",
       "      <td>524.736000</td>\n",
       "      <td>703.523500</td>\n",
       "      <td>794.941000</td>\n",
       "      <td>977.213000</td>\n",
       "      <td>1985.370000</td>\n",
       "    </tr>\n",
       "    <tr>\n",
       "      <th>MajorAxisLength</th>\n",
       "      <td>13611.0</td>\n",
       "      <td>320.141867</td>\n",
       "      <td>85.694186</td>\n",
       "      <td>183.601165</td>\n",
       "      <td>253.303633</td>\n",
       "      <td>296.883367</td>\n",
       "      <td>376.495012</td>\n",
       "      <td>738.860153</td>\n",
       "    </tr>\n",
       "    <tr>\n",
       "      <th>MinorAxisLength</th>\n",
       "      <td>13611.0</td>\n",
       "      <td>202.270714</td>\n",
       "      <td>44.970091</td>\n",
       "      <td>122.512653</td>\n",
       "      <td>175.848170</td>\n",
       "      <td>192.431733</td>\n",
       "      <td>217.031741</td>\n",
       "      <td>460.198497</td>\n",
       "    </tr>\n",
       "    <tr>\n",
       "      <th>AspectRation</th>\n",
       "      <td>13611.0</td>\n",
       "      <td>1.583242</td>\n",
       "      <td>0.246678</td>\n",
       "      <td>1.024868</td>\n",
       "      <td>1.432307</td>\n",
       "      <td>1.551124</td>\n",
       "      <td>1.707109</td>\n",
       "      <td>2.430306</td>\n",
       "    </tr>\n",
       "    <tr>\n",
       "      <th>Eccentricity</th>\n",
       "      <td>13611.0</td>\n",
       "      <td>0.750895</td>\n",
       "      <td>0.092002</td>\n",
       "      <td>0.218951</td>\n",
       "      <td>0.715928</td>\n",
       "      <td>0.764441</td>\n",
       "      <td>0.810466</td>\n",
       "      <td>0.911423</td>\n",
       "    </tr>\n",
       "    <tr>\n",
       "      <th>ConvexArea</th>\n",
       "      <td>13611.0</td>\n",
       "      <td>53768.200206</td>\n",
       "      <td>29774.915817</td>\n",
       "      <td>20684.000000</td>\n",
       "      <td>36714.500000</td>\n",
       "      <td>45178.000000</td>\n",
       "      <td>62294.000000</td>\n",
       "      <td>263261.000000</td>\n",
       "    </tr>\n",
       "    <tr>\n",
       "      <th>EquivDiameter</th>\n",
       "      <td>13611.0</td>\n",
       "      <td>253.064220</td>\n",
       "      <td>59.177120</td>\n",
       "      <td>161.243764</td>\n",
       "      <td>215.068003</td>\n",
       "      <td>238.438026</td>\n",
       "      <td>279.446467</td>\n",
       "      <td>569.374358</td>\n",
       "    </tr>\n",
       "    <tr>\n",
       "      <th>Extent</th>\n",
       "      <td>13611.0</td>\n",
       "      <td>0.749733</td>\n",
       "      <td>0.049086</td>\n",
       "      <td>0.555315</td>\n",
       "      <td>0.718634</td>\n",
       "      <td>0.759859</td>\n",
       "      <td>0.786851</td>\n",
       "      <td>0.866195</td>\n",
       "    </tr>\n",
       "    <tr>\n",
       "      <th>Solidity</th>\n",
       "      <td>13611.0</td>\n",
       "      <td>0.987143</td>\n",
       "      <td>0.004660</td>\n",
       "      <td>0.919246</td>\n",
       "      <td>0.985670</td>\n",
       "      <td>0.988283</td>\n",
       "      <td>0.990013</td>\n",
       "      <td>0.994677</td>\n",
       "    </tr>\n",
       "    <tr>\n",
       "      <th>roundness</th>\n",
       "      <td>13611.0</td>\n",
       "      <td>0.873282</td>\n",
       "      <td>0.059520</td>\n",
       "      <td>0.489618</td>\n",
       "      <td>0.832096</td>\n",
       "      <td>0.883157</td>\n",
       "      <td>0.916869</td>\n",
       "      <td>0.990685</td>\n",
       "    </tr>\n",
       "    <tr>\n",
       "      <th>Compactness</th>\n",
       "      <td>13611.0</td>\n",
       "      <td>0.799864</td>\n",
       "      <td>0.061713</td>\n",
       "      <td>0.640577</td>\n",
       "      <td>0.762469</td>\n",
       "      <td>0.801277</td>\n",
       "      <td>0.834270</td>\n",
       "      <td>0.987303</td>\n",
       "    </tr>\n",
       "    <tr>\n",
       "      <th>ShapeFactor1</th>\n",
       "      <td>13611.0</td>\n",
       "      <td>0.006564</td>\n",
       "      <td>0.001128</td>\n",
       "      <td>0.002778</td>\n",
       "      <td>0.005900</td>\n",
       "      <td>0.006645</td>\n",
       "      <td>0.007271</td>\n",
       "      <td>0.010451</td>\n",
       "    </tr>\n",
       "    <tr>\n",
       "      <th>ShapeFactor2</th>\n",
       "      <td>13611.0</td>\n",
       "      <td>0.001716</td>\n",
       "      <td>0.000596</td>\n",
       "      <td>0.000564</td>\n",
       "      <td>0.001154</td>\n",
       "      <td>0.001694</td>\n",
       "      <td>0.002170</td>\n",
       "      <td>0.003665</td>\n",
       "    </tr>\n",
       "    <tr>\n",
       "      <th>ShapeFactor3</th>\n",
       "      <td>13611.0</td>\n",
       "      <td>0.643590</td>\n",
       "      <td>0.098996</td>\n",
       "      <td>0.410339</td>\n",
       "      <td>0.581359</td>\n",
       "      <td>0.642044</td>\n",
       "      <td>0.696006</td>\n",
       "      <td>0.974767</td>\n",
       "    </tr>\n",
       "    <tr>\n",
       "      <th>ShapeFactor4</th>\n",
       "      <td>13611.0</td>\n",
       "      <td>0.995063</td>\n",
       "      <td>0.004366</td>\n",
       "      <td>0.947687</td>\n",
       "      <td>0.993703</td>\n",
       "      <td>0.996386</td>\n",
       "      <td>0.997883</td>\n",
       "      <td>0.999733</td>\n",
       "    </tr>\n",
       "  </tbody>\n",
       "</table>\n",
       "</div>"
      ],
      "text/plain": [
       "                   count          mean           std           min  \\\n",
       "Area             13611.0  53048.284549  29324.095717  20420.000000   \n",
       "Perimeter        13611.0    855.283459    214.289696    524.736000   \n",
       "MajorAxisLength  13611.0    320.141867     85.694186    183.601165   \n",
       "MinorAxisLength  13611.0    202.270714     44.970091    122.512653   \n",
       "AspectRation     13611.0      1.583242      0.246678      1.024868   \n",
       "Eccentricity     13611.0      0.750895      0.092002      0.218951   \n",
       "ConvexArea       13611.0  53768.200206  29774.915817  20684.000000   \n",
       "EquivDiameter    13611.0    253.064220     59.177120    161.243764   \n",
       "Extent           13611.0      0.749733      0.049086      0.555315   \n",
       "Solidity         13611.0      0.987143      0.004660      0.919246   \n",
       "roundness        13611.0      0.873282      0.059520      0.489618   \n",
       "Compactness      13611.0      0.799864      0.061713      0.640577   \n",
       "ShapeFactor1     13611.0      0.006564      0.001128      0.002778   \n",
       "ShapeFactor2     13611.0      0.001716      0.000596      0.000564   \n",
       "ShapeFactor3     13611.0      0.643590      0.098996      0.410339   \n",
       "ShapeFactor4     13611.0      0.995063      0.004366      0.947687   \n",
       "\n",
       "                          25%           50%           75%            max  \n",
       "Area             36328.000000  44652.000000  61332.000000  254616.000000  \n",
       "Perimeter          703.523500    794.941000    977.213000    1985.370000  \n",
       "MajorAxisLength    253.303633    296.883367    376.495012     738.860153  \n",
       "MinorAxisLength    175.848170    192.431733    217.031741     460.198497  \n",
       "AspectRation         1.432307      1.551124      1.707109       2.430306  \n",
       "Eccentricity         0.715928      0.764441      0.810466       0.911423  \n",
       "ConvexArea       36714.500000  45178.000000  62294.000000  263261.000000  \n",
       "EquivDiameter      215.068003    238.438026    279.446467     569.374358  \n",
       "Extent               0.718634      0.759859      0.786851       0.866195  \n",
       "Solidity             0.985670      0.988283      0.990013       0.994677  \n",
       "roundness            0.832096      0.883157      0.916869       0.990685  \n",
       "Compactness          0.762469      0.801277      0.834270       0.987303  \n",
       "ShapeFactor1         0.005900      0.006645      0.007271       0.010451  \n",
       "ShapeFactor2         0.001154      0.001694      0.002170       0.003665  \n",
       "ShapeFactor3         0.581359      0.642044      0.696006       0.974767  \n",
       "ShapeFactor4         0.993703      0.996386      0.997883       0.999733  "
      ]
     },
     "execution_count": 10,
     "metadata": {},
     "output_type": "execute_result"
    }
   ],
   "source": [
    "data.describe().T"
   ]
  },
  {
   "cell_type": "code",
   "execution_count": 11,
   "id": "40b29edd",
   "metadata": {
    "ExecuteTime": {
     "end_time": "2023-10-22T19:05:09.697044Z",
     "start_time": "2023-10-22T19:05:09.547022400Z"
    }
   },
   "outputs": [
    {
     "data": {
      "text/plain": [
       "Area               0\n",
       "Perimeter          0\n",
       "MajorAxisLength    0\n",
       "MinorAxisLength    0\n",
       "AspectRation       0\n",
       "Eccentricity       0\n",
       "ConvexArea         0\n",
       "EquivDiameter      0\n",
       "Extent             0\n",
       "Solidity           0\n",
       "roundness          0\n",
       "Compactness        0\n",
       "ShapeFactor1       0\n",
       "ShapeFactor2       0\n",
       "ShapeFactor3       0\n",
       "ShapeFactor4       0\n",
       "Class              0\n",
       "dtype: int64"
      ]
     },
     "execution_count": 11,
     "metadata": {},
     "output_type": "execute_result"
    }
   ],
   "source": [
    "data.isnull().sum()"
   ]
  },
  {
   "cell_type": "code",
   "execution_count": 12,
   "id": "5b0548cf",
   "metadata": {
    "ExecuteTime": {
     "end_time": "2023-10-22T19:05:09.698046200Z",
     "start_time": "2023-10-22T19:05:09.555563100Z"
    }
   },
   "outputs": [
    {
     "data": {
      "text/plain": [
       "array(['SEKER', 'BARBUNYA', 'BOMBAY', 'CALI', 'HOROZ', 'SIRA', 'DERMASON'],\n",
       "      dtype=object)"
      ]
     },
     "execution_count": 12,
     "metadata": {},
     "output_type": "execute_result"
    }
   ],
   "source": [
    "data['Class'].unique()"
   ]
  },
  {
   "cell_type": "code",
   "execution_count": 13,
   "id": "e9b419d7",
   "metadata": {
    "ExecuteTime": {
     "end_time": "2023-10-22T19:05:09.749144300Z",
     "start_time": "2023-10-22T19:05:09.565539200Z"
    }
   },
   "outputs": [
    {
     "data": {
      "text/plain": [
       "Class\n",
       "DERMASON    3546\n",
       "SIRA        2636\n",
       "SEKER       2027\n",
       "HOROZ       1928\n",
       "CALI        1630\n",
       "BARBUNYA    1322\n",
       "BOMBAY       522\n",
       "Name: count, dtype: int64"
      ]
     },
     "execution_count": 13,
     "metadata": {},
     "output_type": "execute_result"
    }
   ],
   "source": [
    "data[\"Class\"].value_counts()"
   ]
  },
  {
   "cell_type": "code",
   "execution_count": 14,
   "id": "ac92e391",
   "metadata": {},
   "outputs": [
    {
     "data": {
      "text/plain": [
       "<Axes: xlabel='Class', ylabel='count'>"
      ]
     },
     "execution_count": 14,
     "metadata": {},
     "output_type": "execute_result"
    },
    {
     "data": {
      "image/png": "[encoded data removed]",
      "text/plain": [
       "<Figure size 640x480 with 1 Axes>"
      ]
     },
     "metadata": {},
     "output_type": "display_data"
    }
   ],
   "source": [
    "sns.countplot(x='Class', data = data)"
   ]
  },
  {
   "cell_type": "code",
   "execution_count": 15,
   "id": "4cd1e62e",
   "metadata": {
    "ExecuteTime": {
     "end_time": "2023-10-22T19:05:09.749144300Z",
     "start_time": "2023-10-22T19:05:09.578203200Z"
    }
   },
   "outputs": [],
   "source": [
    "labelencoder = LabelEncoder()\n",
    "data[\"Class\"] = labelencoder.fit_transform(data['Class'])"
   ]
  },
  {
   "cell_type": "code",
   "execution_count": 16,
   "id": "58ebc734",
   "metadata": {},
   "outputs": [
    {
     "data": {
      "text/html": [
       "<div>\n",
       "<style scoped>\n",
       "    .dataframe tbody tr th:only-of-type {\n",
       "        vertical-align: middle;\n",
       "    }\n",
       "\n",
       "    .dataframe tbody tr th {\n",
       "        vertical-align: top;\n",
       "    }\n",
       "\n",
       "    .dataframe thead th {\n",
       "        text-align: right;\n",
       "    }\n",
       "</style>\n",
       "<table border=\"1\" class=\"dataframe\">\n",
       "  <thead>\n",
       "    <tr style=\"text-align: right;\">\n",
       "      <th></th>\n",
       "      <th>Area</th>\n",
       "      <th>Perimeter</th>\n",
       "      <th>MajorAxisLength</th>\n",
       "      <th>MinorAxisLength</th>\n",
       "      <th>AspectRation</th>\n",
       "      <th>Eccentricity</th>\n",
       "      <th>ConvexArea</th>\n",
       "      <th>EquivDiameter</th>\n",
       "      <th>Extent</th>\n",
       "      <th>Solidity</th>\n",
       "      <th>roundness</th>\n",
       "      <th>Compactness</th>\n",
       "      <th>ShapeFactor1</th>\n",
       "      <th>ShapeFactor2</th>\n",
       "      <th>ShapeFactor3</th>\n",
       "      <th>ShapeFactor4</th>\n",
       "      <th>Class</th>\n",
       "    </tr>\n",
       "  </thead>\n",
       "  <tbody>\n",
       "    <tr>\n",
       "      <th>Area</th>\n",
       "      <td>1.000000</td>\n",
       "      <td>0.966722</td>\n",
       "      <td>0.931834</td>\n",
       "      <td>0.951602</td>\n",
       "      <td>0.241735</td>\n",
       "      <td>0.267481</td>\n",
       "      <td>0.999939</td>\n",
       "      <td>0.984968</td>\n",
       "      <td>0.054345</td>\n",
       "      <td>-0.196585</td>\n",
       "      <td>-0.357530</td>\n",
       "      <td>-0.268067</td>\n",
       "      <td>-0.847958</td>\n",
       "      <td>-0.639291</td>\n",
       "      <td>-0.272145</td>\n",
       "      <td>-0.355721</td>\n",
       "      <td>-0.475252</td>\n",
       "    </tr>\n",
       "    <tr>\n",
       "      <th>Perimeter</th>\n",
       "      <td>0.966722</td>\n",
       "      <td>1.000000</td>\n",
       "      <td>0.977338</td>\n",
       "      <td>0.913179</td>\n",
       "      <td>0.385276</td>\n",
       "      <td>0.391066</td>\n",
       "      <td>0.967689</td>\n",
       "      <td>0.991380</td>\n",
       "      <td>-0.021160</td>\n",
       "      <td>-0.303970</td>\n",
       "      <td>-0.547647</td>\n",
       "      <td>-0.406857</td>\n",
       "      <td>-0.864623</td>\n",
       "      <td>-0.767592</td>\n",
       "      <td>-0.408435</td>\n",
       "      <td>-0.429310</td>\n",
       "      <td>-0.507638</td>\n",
       "    </tr>\n",
       "    <tr>\n",
       "      <th>MajorAxisLength</th>\n",
       "      <td>0.931834</td>\n",
       "      <td>0.977338</td>\n",
       "      <td>1.000000</td>\n",
       "      <td>0.826052</td>\n",
       "      <td>0.550335</td>\n",
       "      <td>0.541972</td>\n",
       "      <td>0.932607</td>\n",
       "      <td>0.961733</td>\n",
       "      <td>-0.078062</td>\n",
       "      <td>-0.284302</td>\n",
       "      <td>-0.596358</td>\n",
       "      <td>-0.568377</td>\n",
       "      <td>-0.773609</td>\n",
       "      <td>-0.859238</td>\n",
       "      <td>-0.568185</td>\n",
       "      <td>-0.482527</td>\n",
       "      <td>-0.455175</td>\n",
       "    </tr>\n",
       "    <tr>\n",
       "      <th>MinorAxisLength</th>\n",
       "      <td>0.951602</td>\n",
       "      <td>0.913179</td>\n",
       "      <td>0.826052</td>\n",
       "      <td>1.000000</td>\n",
       "      <td>-0.009161</td>\n",
       "      <td>0.019574</td>\n",
       "      <td>0.951339</td>\n",
       "      <td>0.948539</td>\n",
       "      <td>0.145957</td>\n",
       "      <td>-0.155831</td>\n",
       "      <td>-0.210344</td>\n",
       "      <td>-0.015066</td>\n",
       "      <td>-0.947204</td>\n",
       "      <td>-0.471347</td>\n",
       "      <td>-0.019326</td>\n",
       "      <td>-0.263749</td>\n",
       "      <td>-0.458492</td>\n",
       "    </tr>\n",
       "    <tr>\n",
       "      <th>AspectRation</th>\n",
       "      <td>0.241735</td>\n",
       "      <td>0.385276</td>\n",
       "      <td>0.550335</td>\n",
       "      <td>-0.009161</td>\n",
       "      <td>1.000000</td>\n",
       "      <td>0.924293</td>\n",
       "      <td>0.243301</td>\n",
       "      <td>0.303647</td>\n",
       "      <td>-0.370184</td>\n",
       "      <td>-0.267754</td>\n",
       "      <td>-0.766979</td>\n",
       "      <td>-0.987687</td>\n",
       "      <td>0.024593</td>\n",
       "      <td>-0.837841</td>\n",
       "      <td>-0.978592</td>\n",
       "      <td>-0.449264</td>\n",
       "      <td>-0.116332</td>\n",
       "    </tr>\n",
       "    <tr>\n",
       "      <th>Eccentricity</th>\n",
       "      <td>0.267481</td>\n",
       "      <td>0.391066</td>\n",
       "      <td>0.541972</td>\n",
       "      <td>0.019574</td>\n",
       "      <td>0.924293</td>\n",
       "      <td>1.000000</td>\n",
       "      <td>0.269255</td>\n",
       "      <td>0.318667</td>\n",
       "      <td>-0.319362</td>\n",
       "      <td>-0.297592</td>\n",
       "      <td>-0.722272</td>\n",
       "      <td>-0.970313</td>\n",
       "      <td>0.019920</td>\n",
       "      <td>-0.860141</td>\n",
       "      <td>-0.981058</td>\n",
       "      <td>-0.449354</td>\n",
       "      <td>-0.200356</td>\n",
       "    </tr>\n",
       "    <tr>\n",
       "      <th>ConvexArea</th>\n",
       "      <td>0.999939</td>\n",
       "      <td>0.967689</td>\n",
       "      <td>0.932607</td>\n",
       "      <td>0.951339</td>\n",
       "      <td>0.243301</td>\n",
       "      <td>0.269255</td>\n",
       "      <td>1.000000</td>\n",
       "      <td>0.985226</td>\n",
       "      <td>0.052564</td>\n",
       "      <td>-0.206191</td>\n",
       "      <td>-0.362083</td>\n",
       "      <td>-0.269922</td>\n",
       "      <td>-0.847950</td>\n",
       "      <td>-0.640862</td>\n",
       "      <td>-0.274024</td>\n",
       "      <td>-0.362049</td>\n",
       "      <td>-0.477459</td>\n",
       "    </tr>\n",
       "    <tr>\n",
       "      <th>EquivDiameter</th>\n",
       "      <td>0.984968</td>\n",
       "      <td>0.991380</td>\n",
       "      <td>0.961733</td>\n",
       "      <td>0.948539</td>\n",
       "      <td>0.303647</td>\n",
       "      <td>0.318667</td>\n",
       "      <td>0.985226</td>\n",
       "      <td>1.000000</td>\n",
       "      <td>0.028383</td>\n",
       "      <td>-0.231648</td>\n",
       "      <td>-0.435945</td>\n",
       "      <td>-0.327650</td>\n",
       "      <td>-0.892741</td>\n",
       "      <td>-0.713069</td>\n",
       "      <td>-0.330389</td>\n",
       "      <td>-0.392512</td>\n",
       "      <td>-0.481099</td>\n",
       "    </tr>\n",
       "    <tr>\n",
       "      <th>Extent</th>\n",
       "      <td>0.054345</td>\n",
       "      <td>-0.021160</td>\n",
       "      <td>-0.078062</td>\n",
       "      <td>0.145957</td>\n",
       "      <td>-0.370184</td>\n",
       "      <td>-0.319362</td>\n",
       "      <td>0.052564</td>\n",
       "      <td>0.028383</td>\n",
       "      <td>1.000000</td>\n",
       "      <td>0.191389</td>\n",
       "      <td>0.344411</td>\n",
       "      <td>0.354212</td>\n",
       "      <td>-0.141616</td>\n",
       "      <td>0.237956</td>\n",
       "      <td>0.347624</td>\n",
       "      <td>0.148502</td>\n",
       "      <td>-0.031184</td>\n",
       "    </tr>\n",
       "    <tr>\n",
       "      <th>Solidity</th>\n",
       "      <td>-0.196585</td>\n",
       "      <td>-0.303970</td>\n",
       "      <td>-0.284302</td>\n",
       "      <td>-0.155831</td>\n",
       "      <td>-0.267754</td>\n",
       "      <td>-0.297592</td>\n",
       "      <td>-0.206191</td>\n",
       "      <td>-0.231648</td>\n",
       "      <td>0.191389</td>\n",
       "      <td>1.000000</td>\n",
       "      <td>0.607150</td>\n",
       "      <td>0.303766</td>\n",
       "      <td>0.153388</td>\n",
       "      <td>0.343559</td>\n",
       "      <td>0.307662</td>\n",
       "      <td>0.702163</td>\n",
       "      <td>0.321283</td>\n",
       "    </tr>\n",
       "    <tr>\n",
       "      <th>roundness</th>\n",
       "      <td>-0.357530</td>\n",
       "      <td>-0.547647</td>\n",
       "      <td>-0.596358</td>\n",
       "      <td>-0.210344</td>\n",
       "      <td>-0.766979</td>\n",
       "      <td>-0.722272</td>\n",
       "      <td>-0.362083</td>\n",
       "      <td>-0.435945</td>\n",
       "      <td>0.344411</td>\n",
       "      <td>0.607150</td>\n",
       "      <td>1.000000</td>\n",
       "      <td>0.768086</td>\n",
       "      <td>0.230273</td>\n",
       "      <td>0.782824</td>\n",
       "      <td>0.763126</td>\n",
       "      <td>0.472149</td>\n",
       "      <td>0.384972</td>\n",
       "    </tr>\n",
       "    <tr>\n",
       "      <th>Compactness</th>\n",
       "      <td>-0.268067</td>\n",
       "      <td>-0.406857</td>\n",
       "      <td>-0.568377</td>\n",
       "      <td>-0.015066</td>\n",
       "      <td>-0.987687</td>\n",
       "      <td>-0.970313</td>\n",
       "      <td>-0.269922</td>\n",
       "      <td>-0.327650</td>\n",
       "      <td>0.354212</td>\n",
       "      <td>0.303766</td>\n",
       "      <td>0.768086</td>\n",
       "      <td>1.000000</td>\n",
       "      <td>-0.009394</td>\n",
       "      <td>0.868939</td>\n",
       "      <td>0.998686</td>\n",
       "      <td>0.484436</td>\n",
       "      <td>0.156204</td>\n",
       "    </tr>\n",
       "    <tr>\n",
       "      <th>ShapeFactor1</th>\n",
       "      <td>-0.847958</td>\n",
       "      <td>-0.864623</td>\n",
       "      <td>-0.773609</td>\n",
       "      <td>-0.947204</td>\n",
       "      <td>0.024593</td>\n",
       "      <td>0.019920</td>\n",
       "      <td>-0.847950</td>\n",
       "      <td>-0.892741</td>\n",
       "      <td>-0.141616</td>\n",
       "      <td>0.153388</td>\n",
       "      <td>0.230273</td>\n",
       "      <td>-0.009394</td>\n",
       "      <td>1.000000</td>\n",
       "      <td>0.469197</td>\n",
       "      <td>-0.008320</td>\n",
       "      <td>0.248619</td>\n",
       "      <td>0.391907</td>\n",
       "    </tr>\n",
       "    <tr>\n",
       "      <th>ShapeFactor2</th>\n",
       "      <td>-0.639291</td>\n",
       "      <td>-0.767592</td>\n",
       "      <td>-0.859238</td>\n",
       "      <td>-0.471347</td>\n",
       "      <td>-0.837841</td>\n",
       "      <td>-0.860141</td>\n",
       "      <td>-0.640862</td>\n",
       "      <td>-0.713069</td>\n",
       "      <td>0.237956</td>\n",
       "      <td>0.343559</td>\n",
       "      <td>0.782824</td>\n",
       "      <td>0.868939</td>\n",
       "      <td>0.469197</td>\n",
       "      <td>1.000000</td>\n",
       "      <td>0.872971</td>\n",
       "      <td>0.529932</td>\n",
       "      <td>0.335122</td>\n",
       "    </tr>\n",
       "    <tr>\n",
       "      <th>ShapeFactor3</th>\n",
       "      <td>-0.272145</td>\n",
       "      <td>-0.408435</td>\n",
       "      <td>-0.568185</td>\n",
       "      <td>-0.019326</td>\n",
       "      <td>-0.978592</td>\n",
       "      <td>-0.981058</td>\n",
       "      <td>-0.274024</td>\n",
       "      <td>-0.330389</td>\n",
       "      <td>0.347624</td>\n",
       "      <td>0.307662</td>\n",
       "      <td>0.763126</td>\n",
       "      <td>0.998686</td>\n",
       "      <td>-0.008320</td>\n",
       "      <td>0.872971</td>\n",
       "      <td>1.000000</td>\n",
       "      <td>0.484274</td>\n",
       "      <td>0.167673</td>\n",
       "    </tr>\n",
       "    <tr>\n",
       "      <th>ShapeFactor4</th>\n",
       "      <td>-0.355721</td>\n",
       "      <td>-0.429310</td>\n",
       "      <td>-0.482527</td>\n",
       "      <td>-0.263749</td>\n",
       "      <td>-0.449264</td>\n",
       "      <td>-0.449354</td>\n",
       "      <td>-0.362049</td>\n",
       "      <td>-0.392512</td>\n",
       "      <td>0.148502</td>\n",
       "      <td>0.702163</td>\n",
       "      <td>0.472149</td>\n",
       "      <td>0.484436</td>\n",
       "      <td>0.248619</td>\n",
       "      <td>0.529932</td>\n",
       "      <td>0.484274</td>\n",
       "      <td>1.000000</td>\n",
       "      <td>0.165033</td>\n",
       "    </tr>\n",
       "    <tr>\n",
       "      <th>Class</th>\n",
       "      <td>-0.475252</td>\n",
       "      <td>-0.507638</td>\n",
       "      <td>-0.455175</td>\n",
       "      <td>-0.458492</td>\n",
       "      <td>-0.116332</td>\n",
       "      <td>-0.200356</td>\n",
       "      <td>-0.477459</td>\n",
       "      <td>-0.481099</td>\n",
       "      <td>-0.031184</td>\n",
       "      <td>0.321283</td>\n",
       "      <td>0.384972</td>\n",
       "      <td>0.156204</td>\n",
       "      <td>0.391907</td>\n",
       "      <td>0.335122</td>\n",
       "      <td>0.167673</td>\n",
       "      <td>0.165033</td>\n",
       "      <td>1.000000</td>\n",
       "    </tr>\n",
       "  </tbody>\n",
       "</table>\n",
       "</div>"
      ],
      "text/plain": [
       "                     Area  Perimeter  MajorAxisLength  MinorAxisLength  \\\n",
       "Area             1.000000   0.966722         0.931834         0.951602   \n",
       "Perimeter        0.966722   1.000000         0.977338         0.913179   \n",
       "MajorAxisLength  0.931834   0.977338         1.000000         0.826052   \n",
       "MinorAxisLength  0.951602   0.913179         0.826052         1.000000   \n",
       "AspectRation     0.241735   0.385276         0.550335        -0.009161   \n",
       "Eccentricity     0.267481   0.391066         0.541972         0.019574   \n",
       "ConvexArea       0.999939   0.967689         0.932607         0.951339   \n",
       "EquivDiameter    0.984968   0.991380         0.961733         0.948539   \n",
       "Extent           0.054345  -0.021160        -0.078062         0.145957   \n",
       "Solidity        -0.196585  -0.303970        -0.284302        -0.155831   \n",
       "roundness       -0.357530  -0.547647        -0.596358        -0.210344   \n",
       "Compactness     -0.268067  -0.406857        -0.568377        -0.015066   \n",
       "ShapeFactor1    -0.847958  -0.864623        -0.773609        -0.947204   \n",
       "ShapeFactor2    -0.639291  -0.767592        -0.859238        -0.471347   \n",
       "ShapeFactor3    -0.272145  -0.408435        -0.568185        -0.019326   \n",
       "ShapeFactor4    -0.355721  -0.429310        -0.482527        -0.263749   \n",
       "Class           -0.475252  -0.507638        -0.455175        -0.458492   \n",
       "\n",
       "                 AspectRation  Eccentricity  ConvexArea  EquivDiameter  \\\n",
       "Area                 0.241735      0.267481    0.999939       0.984968   \n",
       "Perimeter            0.385276      0.391066    0.967689       0.991380   \n",
       "MajorAxisLength      0.550335      0.541972    0.932607       0.961733   \n",
       "MinorAxisLength     -0.009161      0.019574    0.951339       0.948539   \n",
       "AspectRation         1.000000      0.924293    0.243301       0.303647   \n",
       "Eccentricity         0.924293      1.000000    0.269255       0.318667   \n",
       "ConvexArea           0.243301      0.269255    1.000000       0.985226   \n",
       "EquivDiameter        0.303647      0.318667    0.985226       1.000000   \n",
       "Extent              -0.370184     -0.319362    0.052564       0.028383   \n",
       "Solidity            -0.267754     -0.297592   -0.206191      -0.231648   \n",
       "roundness           -0.766979     -0.722272   -0.362083      -0.435945   \n",
       "Compactness         -0.987687     -0.970313   -0.269922      -0.327650   \n",
       "ShapeFactor1         0.024593      0.019920   -0.847950      -0.892741   \n",
       "ShapeFactor2        -0.837841     -0.860141   -0.640862      -0.713069   \n",
       "ShapeFactor3        -0.978592     -0.981058   -0.274024      -0.330389   \n",
       "ShapeFactor4        -0.449264     -0.449354   -0.362049      -0.392512   \n",
       "Class               -0.116332     -0.200356   -0.477459      -0.481099   \n",
       "\n",
       "                   Extent  Solidity  roundness  Compactness  ShapeFactor1  \\\n",
       "Area             0.054345 -0.196585  -0.357530    -0.268067     -0.847958   \n",
       "Perimeter       -0.021160 -0.303970  -0.547647    -0.406857     -0.864623   \n",
       "MajorAxisLength -0.078062 -0.284302  -0.596358    -0.568377     -0.773609   \n",
       "MinorAxisLength  0.145957 -0.155831  -0.210344    -0.015066     -0.947204   \n",
       "AspectRation    -0.370184 -0.267754  -0.766979    -0.987687      0.024593   \n",
       "Eccentricity    -0.319362 -0.297592  -0.722272    -0.970313      0.019920   \n",
       "ConvexArea       0.052564 -0.206191  -0.362083    -0.269922     -0.847950   \n",
       "EquivDiameter    0.028383 -0.231648  -0.435945    -0.327650     -0.892741   \n",
       "Extent           1.000000  0.191389   0.344411     0.354212     -0.141616   \n",
       "Solidity         0.191389  1.000000   0.607150     0.303766      0.153388   \n",
       "roundness        0.344411  0.607150   1.000000     0.768086      0.230273   \n",
       "Compactness      0.354212  0.303766   0.768086     1.000000     -0.009394   \n",
       "ShapeFactor1    -0.141616  0.153388   0.230273    -0.009394      1.000000   \n",
       "ShapeFactor2     0.237956  0.343559   0.782824     0.868939      0.469197   \n",
       "ShapeFactor3     0.347624  0.307662   0.763126     0.998686     -0.008320   \n",
       "ShapeFactor4     0.148502  0.702163   0.472149     0.484436      0.248619   \n",
       "Class           -0.031184  0.321283   0.384972     0.156204      0.391907   \n",
       "\n",
       "                 ShapeFactor2  ShapeFactor3  ShapeFactor4     Class  \n",
       "Area                -0.639291     -0.272145     -0.355721 -0.475252  \n",
       "Perimeter           -0.767592     -0.408435     -0.429310 -0.507638  \n",
       "MajorAxisLength     -0.859238     -0.568185     -0.482527 -0.455175  \n",
       "MinorAxisLength     -0.471347     -0.019326     -0.263749 -0.458492  \n",
       "AspectRation        -0.837841     -0.978592     -0.449264 -0.116332  \n",
       "Eccentricity        -0.860141     -0.981058     -0.449354 -0.200356  \n",
       "ConvexArea          -0.640862     -0.274024     -0.362049 -0.477459  \n",
       "EquivDiameter       -0.713069     -0.330389     -0.392512 -0.481099  \n",
       "Extent               0.237956      0.347624      0.148502 -0.031184  \n",
       "Solidity             0.343559      0.307662      0.702163  0.321283  \n",
       "roundness            0.782824      0.763126      0.472149  0.384972  \n",
       "Compactness          0.868939      0.998686      0.484436  0.156204  \n",
       "ShapeFactor1         0.469197     -0.008320      0.248619  0.391907  \n",
       "ShapeFactor2         1.000000      0.872971      0.529932  0.335122  \n",
       "ShapeFactor3         0.872971      1.000000      0.484274  0.167673  \n",
       "ShapeFactor4         0.529932      0.484274      1.000000  0.165033  \n",
       "Class                0.335122      0.167673      0.165033  1.000000  "
      ]
     },
     "execution_count": 16,
     "metadata": {},
     "output_type": "execute_result"
    }
   ],
   "source": [
    "data.corr()"
   ]
  },
  {
   "cell_type": "code",
   "execution_count": 17,
   "id": "409c27a0",
   "metadata": {},
   "outputs": [
    {
     "data": {
      "image/png": "[encoded data removed]",
      "text/plain": [
       "<Figure size 1200x1200 with 2 Axes>"
      ]
     },
     "metadata": {},
     "output_type": "display_data"
    }
   ],
   "source": [
    "#data.corr #corelasyon matrisi\n",
    "plt.figure(figsize=(12,12))\n",
    "sns.heatmap(data.corr(), annot=True, cmap=plt.cm.Purples)\n",
    "plt.show()"
   ]
  },
  {
   "cell_type": "code",
   "execution_count": 18,
   "id": "fef8eb85",
   "metadata": {},
   "outputs": [],
   "source": [
    "data = data.drop_duplicates()"
   ]
  },
  {
   "cell_type": "code",
   "execution_count": 19,
   "id": "fdf9964c",
   "metadata": {
    "ExecuteTime": {
     "end_time": "2023-10-22T19:05:09.789232400Z",
     "start_time": "2023-10-22T19:05:09.586081400Z"
    }
   },
   "outputs": [],
   "source": [
    "x = data.iloc[:,0:16]#bağımsız değişken\n",
    "y = data.iloc[:,16:]#bağımlı değişken,tahmin değeri,class"
   ]
  },
  {
   "cell_type": "code",
   "execution_count": 20,
   "id": "3b78f455",
   "metadata": {
    "ExecuteTime": {
     "end_time": "2023-10-22T19:05:09.791760600Z",
     "start_time": "2023-10-22T19:05:09.596866800Z"
    }
   },
   "outputs": [
    {
     "data": {
      "text/html": [
       "<div>\n",
       "<style scoped>\n",
       "    .dataframe tbody tr th:only-of-type {\n",
       "        vertical-align: middle;\n",
       "    }\n",
       "\n",
       "    .dataframe tbody tr th {\n",
       "        vertical-align: top;\n",
       "    }\n",
       "\n",
       "    .dataframe thead th {\n",
       "        text-align: right;\n",
       "    }\n",
       "</style>\n",
       "<table border=\"1\" class=\"dataframe\">\n",
       "  <thead>\n",
       "    <tr style=\"text-align: right;\">\n",
       "      <th></th>\n",
       "      <th>Class</th>\n",
       "    </tr>\n",
       "  </thead>\n",
       "  <tbody>\n",
       "    <tr>\n",
       "      <th>0</th>\n",
       "      <td>5</td>\n",
       "    </tr>\n",
       "    <tr>\n",
       "      <th>1</th>\n",
       "      <td>5</td>\n",
       "    </tr>\n",
       "    <tr>\n",
       "      <th>2</th>\n",
       "      <td>5</td>\n",
       "    </tr>\n",
       "    <tr>\n",
       "      <th>3</th>\n",
       "      <td>5</td>\n",
       "    </tr>\n",
       "    <tr>\n",
       "      <th>4</th>\n",
       "      <td>5</td>\n",
       "    </tr>\n",
       "    <tr>\n",
       "      <th>...</th>\n",
       "      <td>...</td>\n",
       "    </tr>\n",
       "    <tr>\n",
       "      <th>13606</th>\n",
       "      <td>3</td>\n",
       "    </tr>\n",
       "    <tr>\n",
       "      <th>13607</th>\n",
       "      <td>3</td>\n",
       "    </tr>\n",
       "    <tr>\n",
       "      <th>13608</th>\n",
       "      <td>3</td>\n",
       "    </tr>\n",
       "    <tr>\n",
       "      <th>13609</th>\n",
       "      <td>3</td>\n",
       "    </tr>\n",
       "    <tr>\n",
       "      <th>13610</th>\n",
       "      <td>3</td>\n",
       "    </tr>\n",
       "  </tbody>\n",
       "</table>\n",
       "<p>13543 rows × 1 columns</p>\n",
       "</div>"
      ],
      "text/plain": [
       "       Class\n",
       "0          5\n",
       "1          5\n",
       "2          5\n",
       "3          5\n",
       "4          5\n",
       "...      ...\n",
       "13606      3\n",
       "13607      3\n",
       "13608      3\n",
       "13609      3\n",
       "13610      3\n",
       "\n",
       "[13543 rows x 1 columns]"
      ]
     },
     "execution_count": 20,
     "metadata": {},
     "output_type": "execute_result"
    }
   ],
   "source": [
    "y"
   ]
  },
  {
   "cell_type": "code",
   "execution_count": 21,
   "id": "6d6907bb",
   "metadata": {
    "ExecuteTime": {
     "end_time": "2023-10-22T19:05:09.864377500Z",
     "start_time": "2023-10-22T19:05:09.609702900Z"
    }
   },
   "outputs": [
    {
     "data": {
      "text/html": [
       "<div>\n",
       "<style scoped>\n",
       "    .dataframe tbody tr th:only-of-type {\n",
       "        vertical-align: middle;\n",
       "    }\n",
       "\n",
       "    .dataframe tbody tr th {\n",
       "        vertical-align: top;\n",
       "    }\n",
       "\n",
       "    .dataframe thead th {\n",
       "        text-align: right;\n",
       "    }\n",
       "</style>\n",
       "<table border=\"1\" class=\"dataframe\">\n",
       "  <thead>\n",
       "    <tr style=\"text-align: right;\">\n",
       "      <th></th>\n",
       "      <th>Area</th>\n",
       "      <th>Perimeter</th>\n",
       "      <th>MajorAxisLength</th>\n",
       "      <th>MinorAxisLength</th>\n",
       "      <th>AspectRation</th>\n",
       "      <th>Eccentricity</th>\n",
       "      <th>ConvexArea</th>\n",
       "      <th>EquivDiameter</th>\n",
       "      <th>Extent</th>\n",
       "      <th>Solidity</th>\n",
       "      <th>roundness</th>\n",
       "      <th>Compactness</th>\n",
       "      <th>ShapeFactor1</th>\n",
       "      <th>ShapeFactor2</th>\n",
       "      <th>ShapeFactor3</th>\n",
       "      <th>ShapeFactor4</th>\n",
       "    </tr>\n",
       "  </thead>\n",
       "  <tbody>\n",
       "    <tr>\n",
       "      <th>0</th>\n",
       "      <td>28395</td>\n",
       "      <td>610.291</td>\n",
       "      <td>208.178117</td>\n",
       "      <td>173.888747</td>\n",
       "      <td>1.197191</td>\n",
       "      <td>0.549812</td>\n",
       "      <td>28715</td>\n",
       "      <td>190.141097</td>\n",
       "      <td>0.763923</td>\n",
       "      <td>0.988856</td>\n",
       "      <td>0.958027</td>\n",
       "      <td>0.913358</td>\n",
       "      <td>0.007332</td>\n",
       "      <td>0.003147</td>\n",
       "      <td>0.834222</td>\n",
       "      <td>0.998724</td>\n",
       "    </tr>\n",
       "    <tr>\n",
       "      <th>1</th>\n",
       "      <td>28734</td>\n",
       "      <td>638.018</td>\n",
       "      <td>200.524796</td>\n",
       "      <td>182.734419</td>\n",
       "      <td>1.097356</td>\n",
       "      <td>0.411785</td>\n",
       "      <td>29172</td>\n",
       "      <td>191.272750</td>\n",
       "      <td>0.783968</td>\n",
       "      <td>0.984986</td>\n",
       "      <td>0.887034</td>\n",
       "      <td>0.953861</td>\n",
       "      <td>0.006979</td>\n",
       "      <td>0.003564</td>\n",
       "      <td>0.909851</td>\n",
       "      <td>0.998430</td>\n",
       "    </tr>\n",
       "    <tr>\n",
       "      <th>2</th>\n",
       "      <td>29380</td>\n",
       "      <td>624.110</td>\n",
       "      <td>212.826130</td>\n",
       "      <td>175.931143</td>\n",
       "      <td>1.209713</td>\n",
       "      <td>0.562727</td>\n",
       "      <td>29690</td>\n",
       "      <td>193.410904</td>\n",
       "      <td>0.778113</td>\n",
       "      <td>0.989559</td>\n",
       "      <td>0.947849</td>\n",
       "      <td>0.908774</td>\n",
       "      <td>0.007244</td>\n",
       "      <td>0.003048</td>\n",
       "      <td>0.825871</td>\n",
       "      <td>0.999066</td>\n",
       "    </tr>\n",
       "    <tr>\n",
       "      <th>3</th>\n",
       "      <td>30008</td>\n",
       "      <td>645.884</td>\n",
       "      <td>210.557999</td>\n",
       "      <td>182.516516</td>\n",
       "      <td>1.153638</td>\n",
       "      <td>0.498616</td>\n",
       "      <td>30724</td>\n",
       "      <td>195.467062</td>\n",
       "      <td>0.782681</td>\n",
       "      <td>0.976696</td>\n",
       "      <td>0.903936</td>\n",
       "      <td>0.928329</td>\n",
       "      <td>0.007017</td>\n",
       "      <td>0.003215</td>\n",
       "      <td>0.861794</td>\n",
       "      <td>0.994199</td>\n",
       "    </tr>\n",
       "    <tr>\n",
       "      <th>4</th>\n",
       "      <td>30140</td>\n",
       "      <td>620.134</td>\n",
       "      <td>201.847882</td>\n",
       "      <td>190.279279</td>\n",
       "      <td>1.060798</td>\n",
       "      <td>0.333680</td>\n",
       "      <td>30417</td>\n",
       "      <td>195.896503</td>\n",
       "      <td>0.773098</td>\n",
       "      <td>0.990893</td>\n",
       "      <td>0.984877</td>\n",
       "      <td>0.970516</td>\n",
       "      <td>0.006697</td>\n",
       "      <td>0.003665</td>\n",
       "      <td>0.941900</td>\n",
       "      <td>0.999166</td>\n",
       "    </tr>\n",
       "    <tr>\n",
       "      <th>...</th>\n",
       "      <td>...</td>\n",
       "      <td>...</td>\n",
       "      <td>...</td>\n",
       "      <td>...</td>\n",
       "      <td>...</td>\n",
       "      <td>...</td>\n",
       "      <td>...</td>\n",
       "      <td>...</td>\n",
       "      <td>...</td>\n",
       "      <td>...</td>\n",
       "      <td>...</td>\n",
       "      <td>...</td>\n",
       "      <td>...</td>\n",
       "      <td>...</td>\n",
       "      <td>...</td>\n",
       "      <td>...</td>\n",
       "    </tr>\n",
       "    <tr>\n",
       "      <th>13606</th>\n",
       "      <td>42097</td>\n",
       "      <td>759.696</td>\n",
       "      <td>288.721612</td>\n",
       "      <td>185.944705</td>\n",
       "      <td>1.552728</td>\n",
       "      <td>0.765002</td>\n",
       "      <td>42508</td>\n",
       "      <td>231.515799</td>\n",
       "      <td>0.714574</td>\n",
       "      <td>0.990331</td>\n",
       "      <td>0.916603</td>\n",
       "      <td>0.801865</td>\n",
       "      <td>0.006858</td>\n",
       "      <td>0.001749</td>\n",
       "      <td>0.642988</td>\n",
       "      <td>0.998385</td>\n",
       "    </tr>\n",
       "    <tr>\n",
       "      <th>13607</th>\n",
       "      <td>42101</td>\n",
       "      <td>757.499</td>\n",
       "      <td>281.576392</td>\n",
       "      <td>190.713136</td>\n",
       "      <td>1.476439</td>\n",
       "      <td>0.735702</td>\n",
       "      <td>42494</td>\n",
       "      <td>231.526798</td>\n",
       "      <td>0.799943</td>\n",
       "      <td>0.990752</td>\n",
       "      <td>0.922015</td>\n",
       "      <td>0.822252</td>\n",
       "      <td>0.006688</td>\n",
       "      <td>0.001886</td>\n",
       "      <td>0.676099</td>\n",
       "      <td>0.998219</td>\n",
       "    </tr>\n",
       "    <tr>\n",
       "      <th>13608</th>\n",
       "      <td>42139</td>\n",
       "      <td>759.321</td>\n",
       "      <td>281.539928</td>\n",
       "      <td>191.187979</td>\n",
       "      <td>1.472582</td>\n",
       "      <td>0.734065</td>\n",
       "      <td>42569</td>\n",
       "      <td>231.631261</td>\n",
       "      <td>0.729932</td>\n",
       "      <td>0.989899</td>\n",
       "      <td>0.918424</td>\n",
       "      <td>0.822730</td>\n",
       "      <td>0.006681</td>\n",
       "      <td>0.001888</td>\n",
       "      <td>0.676884</td>\n",
       "      <td>0.996767</td>\n",
       "    </tr>\n",
       "    <tr>\n",
       "      <th>13609</th>\n",
       "      <td>42147</td>\n",
       "      <td>763.779</td>\n",
       "      <td>283.382636</td>\n",
       "      <td>190.275731</td>\n",
       "      <td>1.489326</td>\n",
       "      <td>0.741055</td>\n",
       "      <td>42667</td>\n",
       "      <td>231.653248</td>\n",
       "      <td>0.705389</td>\n",
       "      <td>0.987813</td>\n",
       "      <td>0.907906</td>\n",
       "      <td>0.817457</td>\n",
       "      <td>0.006724</td>\n",
       "      <td>0.001852</td>\n",
       "      <td>0.668237</td>\n",
       "      <td>0.995222</td>\n",
       "    </tr>\n",
       "    <tr>\n",
       "      <th>13610</th>\n",
       "      <td>42159</td>\n",
       "      <td>772.237</td>\n",
       "      <td>295.142741</td>\n",
       "      <td>182.204716</td>\n",
       "      <td>1.619841</td>\n",
       "      <td>0.786693</td>\n",
       "      <td>42600</td>\n",
       "      <td>231.686223</td>\n",
       "      <td>0.788962</td>\n",
       "      <td>0.989648</td>\n",
       "      <td>0.888380</td>\n",
       "      <td>0.784997</td>\n",
       "      <td>0.007001</td>\n",
       "      <td>0.001640</td>\n",
       "      <td>0.616221</td>\n",
       "      <td>0.998180</td>\n",
       "    </tr>\n",
       "  </tbody>\n",
       "</table>\n",
       "<p>13543 rows × 16 columns</p>\n",
       "</div>"
      ],
      "text/plain": [
       "        Area  Perimeter  MajorAxisLength  MinorAxisLength  AspectRation  \\\n",
       "0      28395    610.291       208.178117       173.888747      1.197191   \n",
       "1      28734    638.018       200.524796       182.734419      1.097356   \n",
       "2      29380    624.110       212.826130       175.931143      1.209713   \n",
       "3      30008    645.884       210.557999       182.516516      1.153638   \n",
       "4      30140    620.134       201.847882       190.279279      1.060798   \n",
       "...      ...        ...              ...              ...           ...   \n",
       "13606  42097    759.696       288.721612       185.944705      1.552728   \n",
       "13607  42101    757.499       281.576392       190.713136      1.476439   \n",
       "13608  42139    759.321       281.539928       191.187979      1.472582   \n",
       "13609  42147    763.779       283.382636       190.275731      1.489326   \n",
       "13610  42159    772.237       295.142741       182.204716      1.619841   \n",
       "\n",
       "       Eccentricity  ConvexArea  EquivDiameter    Extent  Solidity  roundness  \\\n",
       "0          0.549812       28715     190.141097  0.763923  0.988856   0.958027   \n",
       "1          0.411785       29172     191.272750  0.783968  0.984986   0.887034   \n",
       "2          0.562727       29690     193.410904  0.778113  0.989559   0.947849   \n",
       "3          0.498616       30724     195.467062  0.782681  0.976696   0.903936   \n",
       "4          0.333680       30417     195.896503  0.773098  0.990893   0.984877   \n",
       "...             ...         ...            ...       ...       ...        ...   \n",
       "13606      0.765002       42508     231.515799  0.714574  0.990331   0.916603   \n",
       "13607      0.735702       42494     231.526798  0.799943  0.990752   0.922015   \n",
       "13608      0.734065       42569     231.631261  0.729932  0.989899   0.918424   \n",
       "13609      0.741055       42667     231.653248  0.705389  0.987813   0.907906   \n",
       "13610      0.786693       42600     231.686223  0.788962  0.989648   0.888380   \n",
       "\n",
       "       Compactness  ShapeFactor1  ShapeFactor2  ShapeFactor3  ShapeFactor4  \n",
       "0         0.913358      0.007332      0.003147      0.834222      0.998724  \n",
       "1         0.953861      0.006979      0.003564      0.909851      0.998430  \n",
       "2         0.908774      0.007244      0.003048      0.825871      0.999066  \n",
       "3         0.928329      0.007017      0.003215      0.861794      0.994199  \n",
       "4         0.970516      0.006697      0.003665      0.941900      0.999166  \n",
       "...            ...           ...           ...           ...           ...  \n",
       "13606     0.801865      0.006858      0.001749      0.642988      0.998385  \n",
       "13607     0.822252      0.006688      0.001886      0.676099      0.998219  \n",
       "13608     0.822730      0.006681      0.001888      0.676884      0.996767  \n",
       "13609     0.817457      0.006724      0.001852      0.668237      0.995222  \n",
       "13610     0.784997      0.007001      0.001640      0.616221      0.998180  \n",
       "\n",
       "[13543 rows x 16 columns]"
      ]
     },
     "execution_count": 21,
     "metadata": {},
     "output_type": "execute_result"
    }
   ],
   "source": [
    "x"
   ]
  },
  {
   "cell_type": "code",
   "execution_count": 22,
   "id": "99e3e4d0",
   "metadata": {
    "ExecuteTime": {
     "end_time": "2023-10-22T19:05:09.865378600Z",
     "start_time": "2023-10-22T19:05:09.636823700Z"
    }
   },
   "outputs": [],
   "source": [
    "X_train, X_test, y_train, y_test = train_test_split(x,y,test_size = 0.33, random_state = 42)"
   ]
  },
  {
   "cell_type": "code",
   "execution_count": 23,
   "id": "dc3be43a",
   "metadata": {
    "ExecuteTime": {
     "end_time": "2023-10-22T19:05:09.866375Z",
     "start_time": "2023-10-22T19:05:09.646306400Z"
    }
   },
   "outputs": [],
   "source": [
    "standardscaler = StandardScaler()\n",
    "x_train = standardscaler.fit_transform(X_train)\n",
    "x_test = standardscaler.transform(X_test)"
   ]
  },
  {
   "cell_type": "markdown",
   "id": "1f4ffdde",
   "metadata": {},
   "source": [
    "# KNN "
   ]
  },
  {
   "cell_type": "code",
   "execution_count": 24,
   "id": "6c50de29",
   "metadata": {
    "ExecuteTime": {
     "end_time": "2023-10-22T19:05:09.876889700Z",
     "start_time": "2023-10-22T19:05:09.662544500Z"
    }
   },
   "outputs": [
    {
     "data": {
      "text/plain": [
       "array([5, 2, 3, ..., 2, 4, 2])"
      ]
     },
     "execution_count": 24,
     "metadata": {},
     "output_type": "execute_result"
    }
   ],
   "source": [
    "knn = KNeighborsClassifier(n_neighbors = 35) #,metric = 'manhattan')\n",
    "knn.fit(x_train,y_train.values.ravel())\n",
    "y_predict = knn.predict(x_test)\n",
    "y_predict"
   ]
  },
  {
   "cell_type": "code",
   "execution_count": 25,
   "id": "7512dd7f",
   "metadata": {},
   "outputs": [
    {
     "data": {
      "text/plain": [
       "0.9217002237136466"
      ]
     },
     "execution_count": 25,
     "metadata": {},
     "output_type": "execute_result"
    }
   ],
   "source": [
    "accuracy = accuracy_score(y_test,y_predict)\n",
    "accuracy"
   ]
  },
  {
   "cell_type": "code",
   "execution_count": 26,
   "id": "a4c3d98e",
   "metadata": {},
   "outputs": [
    {
     "data": {
      "text/plain": [
       "array([[ 393,    0,   38,    0,    1,    4,   11],\n",
       "       [   0,  177,    0,    0,    0,    0,    0],\n",
       "       [  13,    0,  505,    0,    8,    1,    5],\n",
       "       [   0,    0,    0, 1064,    1,   15,   72],\n",
       "       [   0,    0,   10,    4,  593,    0,   14],\n",
       "       [   7,    0,    0,   18,    0,  620,   19],\n",
       "       [   4,    0,    0,   79,   17,    9,  768]], dtype=int64)"
      ]
     },
     "execution_count": 26,
     "metadata": {},
     "output_type": "execute_result"
    }
   ],
   "source": [
    "cm = confusion_matrix(y_test,y_predict)\n",
    "cm"
   ]
  },
  {
   "cell_type": "markdown",
   "id": "1f6a147e",
   "metadata": {},
   "source": [
    "# GAUSSİANNAİVEBAYES"
   ]
  },
  {
   "cell_type": "code",
   "execution_count": 27,
   "id": "968c2887",
   "metadata": {},
   "outputs": [
    {
     "data": {
      "text/plain": [
       "array([5, 0, 3, ..., 2, 4, 2])"
      ]
     },
     "execution_count": 27,
     "metadata": {},
     "output_type": "execute_result"
    }
   ],
   "source": [
    "gnb = GaussianNB()\n",
    "gnb.fit(x_train,y_train.values.ravel())\n",
    "y_predict = gnb.predict(x_test)\n",
    "y_predict"
   ]
  },
  {
   "cell_type": "code",
   "execution_count": 28,
   "id": "13f8ec2e",
   "metadata": {},
   "outputs": [
    {
     "data": {
      "text/plain": [
       "0.8910514541387025"
      ]
     },
     "execution_count": 28,
     "metadata": {},
     "output_type": "execute_result"
    }
   ],
   "source": [
    "accuracy = accuracy_score(y_test,y_predict)\n",
    "accuracy"
   ]
  },
  {
   "cell_type": "code",
   "execution_count": 29,
   "id": "bb973ee8",
   "metadata": {},
   "outputs": [
    {
     "data": {
      "text/plain": [
       "array([[363,   0,  67,   0,   1,   2,  14],\n",
       "       [  0, 177,   0,   0,   0,   0,   0],\n",
       "       [ 45,   1, 474,   0,   9,   1,   2],\n",
       "       [  0,   0,   0, 997,   2,  27, 126],\n",
       "       [  1,   0,   8,   6, 596,   0,  10],\n",
       "       [  9,   0,   0,   7,   0, 624,  24],\n",
       "       [  8,   0,   2,  66,  29,  20, 752]], dtype=int64)"
      ]
     },
     "execution_count": 29,
     "metadata": {},
     "output_type": "execute_result"
    }
   ],
   "source": [
    "cm = confusion_matrix(y_test,y_predict)\n",
    "cm"
   ]
  },
  {
   "cell_type": "markdown",
   "id": "710418ab",
   "metadata": {},
   "source": [
    "# LOGİSTİC REGRESSİON"
   ]
  },
  {
   "cell_type": "code",
   "execution_count": 30,
   "id": "57dadf77",
   "metadata": {},
   "outputs": [
    {
     "data": {
      "text/plain": [
       "array([5, 2, 3, ..., 2, 4, 2])"
      ]
     },
     "execution_count": 30,
     "metadata": {},
     "output_type": "execute_result"
    }
   ],
   "source": [
    "logisticreg = LogisticRegression(random_state=0,solver='lbfgs', max_iter=1000)\n",
    "logisticreg.fit(x_train,y_train.values.ravel())\n",
    "y_predict = logisticreg.predict(x_test)\n",
    "y_predict"
   ]
  },
  {
   "cell_type": "code",
   "execution_count": 31,
   "id": "7ff1984c",
   "metadata": {},
   "outputs": [
    {
     "data": {
      "text/plain": [
       "0.9208053691275168"
      ]
     },
     "execution_count": 31,
     "metadata": {},
     "output_type": "execute_result"
    }
   ],
   "source": [
    "accuracy = accuracy_score(y_test,y_predict)\n",
    "accuracy"
   ]
  },
  {
   "cell_type": "code",
   "execution_count": 32,
   "id": "5d3c1771",
   "metadata": {},
   "outputs": [
    {
     "data": {
      "text/plain": [
       "array([[ 410,    0,   22,    0,    0,    2,   13],\n",
       "       [   0,  177,    0,    0,    0,    0,    0],\n",
       "       [  20,    0,  495,    0,    8,    2,    7],\n",
       "       [   0,    0,    0, 1049,    2,   15,   86],\n",
       "       [   0,    0,    7,    5,  597,    0,   12],\n",
       "       [   8,    0,    0,   12,    0,  623,   21],\n",
       "       [   2,    0,    1,   72,   23,   14,  765]], dtype=int64)"
      ]
     },
     "execution_count": 32,
     "metadata": {},
     "output_type": "execute_result"
    }
   ],
   "source": [
    "cm = confusion_matrix(y_test,y_predict)\n",
    "cm"
   ]
  },
  {
   "cell_type": "markdown",
   "id": "0ec971c4",
   "metadata": {},
   "source": [
    "# SUPPORT VECTOR MACHİNE"
   ]
  },
  {
   "cell_type": "code",
   "execution_count": 33,
   "id": "35cea2ec",
   "metadata": {},
   "outputs": [
    {
     "data": {
      "text/plain": [
       "array([5, 2, 3, ..., 2, 4, 2])"
      ]
     },
     "execution_count": 33,
     "metadata": {},
     "output_type": "execute_result"
    }
   ],
   "source": [
    "supportvector = SVC(kernel=\"rbf\")\n",
    "supportvector.fit(x_train,y_train.values.ravel())\n",
    "y_predict = supportvector.predict(x_test)\n",
    "y_predict"
   ]
  },
  {
   "cell_type": "code",
   "execution_count": 34,
   "id": "49f3ab25",
   "metadata": {},
   "outputs": [
    {
     "data": {
      "text/plain": [
       "0.9284116331096197"
      ]
     },
     "execution_count": 34,
     "metadata": {},
     "output_type": "execute_result"
    }
   ],
   "source": [
    "accuracy = accuracy_score(y_test,y_predict)\n",
    "accuracy"
   ]
  },
  {
   "cell_type": "code",
   "execution_count": 35,
   "id": "c9e2931a",
   "metadata": {},
   "outputs": [
    {
     "data": {
      "text/plain": [
       "array([[ 412,    0,   22,    0,    0,    3,   10],\n",
       "       [   0,  177,    0,    0,    0,    0,    0],\n",
       "       [  16,    0,  502,    0,    9,    2,    3],\n",
       "       [   0,    0,    0, 1068,    2,   10,   72],\n",
       "       [   0,    0,    8,    5,  595,    0,   13],\n",
       "       [   3,    0,    0,   16,    0,  629,   16],\n",
       "       [   4,    0,    1,   78,   18,    9,  767]], dtype=int64)"
      ]
     },
     "execution_count": 35,
     "metadata": {},
     "output_type": "execute_result"
    }
   ],
   "source": [
    "cm = confusion_matrix(y_test,y_predict)\n",
    "cm"
   ]
  },
  {
   "cell_type": "markdown",
   "id": "330da8b7",
   "metadata": {},
   "source": [
    "# RANDOM FOREST"
   ]
  },
  {
   "cell_type": "code",
   "execution_count": 36,
   "id": "caad7ae5",
   "metadata": {},
   "outputs": [],
   "source": [
    "randomforest = RandomForestClassifier(criterion = 'entropy',n_estimators = 10,random_state = 42)\n",
    "randomforest.fit(x_train,y_train.values.ravel())\n",
    "y_predict = randomforest.predict(x_test)"
   ]
  },
  {
   "cell_type": "code",
   "execution_count": 37,
   "id": "c9c2e403",
   "metadata": {},
   "outputs": [
    {
     "data": {
      "text/plain": [
       "0.9185682326621923"
      ]
     },
     "execution_count": 37,
     "metadata": {},
     "output_type": "execute_result"
    }
   ],
   "source": [
    "accuracy = accuracy_score(y_test,y_predict)\n",
    "accuracy"
   ]
  },
  {
   "cell_type": "code",
   "execution_count": 38,
   "id": "db445f84",
   "metadata": {},
   "outputs": [
    {
     "data": {
      "text/plain": [
       "array([[ 402,    0,   29,    0,    2,    3,   11],\n",
       "       [   1,  176,    0,    0,    0,    0,    0],\n",
       "       [  29,    0,  489,    0,    8,    2,    4],\n",
       "       [   0,    0,    0, 1071,    1,   19,   61],\n",
       "       [   4,    0,    5,    5,  590,    0,   17],\n",
       "       [   6,    0,    0,   24,    0,  622,   12],\n",
       "       [   4,    0,    2,   77,   24,   14,  756]], dtype=int64)"
      ]
     },
     "execution_count": 38,
     "metadata": {},
     "output_type": "execute_result"
    }
   ],
   "source": [
    "cm = confusion_matrix(y_test,y_predict)\n",
    "cm"
   ]
  },
  {
   "cell_type": "markdown",
   "id": "80ae79d5",
   "metadata": {},
   "source": [
    "# DECİSİON TREE"
   ]
  },
  {
   "cell_type": "code",
   "execution_count": 60,
   "id": "6003a20c",
   "metadata": {},
   "outputs": [],
   "source": [
    "decisiontree = DecisionTreeClassifier(criterion = 'entropy',random_state=42)\n",
    "decisiontree.fit(x_train,y_train.values.ravel())\n",
    "y_predict = decisiontree.predict(x_test)"
   ]
  },
  {
   "cell_type": "code",
   "execution_count": 61,
   "id": "8606a359",
   "metadata": {},
   "outputs": [
    {
     "data": {
      "text/plain": [
       "0.8919463087248322"
      ]
     },
     "execution_count": 61,
     "metadata": {},
     "output_type": "execute_result"
    }
   ],
   "source": [
    "accuracy = accuracy_score(y_test,y_predict)\n",
    "accuracy"
   ]
  },
  {
   "cell_type": "code",
   "execution_count": null,
   "id": "04b3514a",
   "metadata": {},
   "outputs": [],
   "source": [
    "cm = confusion_matrix(y_test,y_predict)\n",
    "cm"
   ]
  },
  {
   "cell_type": "markdown",
   "id": "be876326",
   "metadata": {},
   "source": [
    "# BOYUT İNDİRGEME"
   ]
  },
  {
   "cell_type": "code",
   "execution_count": 39,
   "id": "a552c975",
   "metadata": {},
   "outputs": [],
   "source": [
    "pca = PCA(n_components=8)\n",
    "pca.fit(x)\n",
    "x_pca = pca.transform(x)\n",
    "transformed_data = pd.DataFrame(x_pca)"
   ]
  },
  {
   "cell_type": "code",
   "execution_count": 40,
   "id": "4c714cb5",
   "metadata": {},
   "outputs": [],
   "source": [
    "x = transformed_data"
   ]
  },
  {
   "cell_type": "code",
   "execution_count": 41,
   "id": "c4a9eb30",
   "metadata": {},
   "outputs": [],
   "source": [
    "X_train, X_test, y_train, y_test = train_test_split(x,y,test_size = 0.33, random_state = 42)"
   ]
  },
  {
   "cell_type": "code",
   "execution_count": 42,
   "id": "bd874fa3",
   "metadata": {},
   "outputs": [],
   "source": [
    "x_train = standardscaler.fit_transform(X_train)\n",
    "x_test = standardscaler.transform(X_test)"
   ]
  },
  {
   "cell_type": "code",
   "execution_count": 43,
   "id": "78828cdb",
   "metadata": {},
   "outputs": [
    {
     "data": {
      "text/plain": [
       "array([5, 6, 3, ..., 2, 4, 2])"
      ]
     },
     "execution_count": 43,
     "metadata": {},
     "output_type": "execute_result"
    }
   ],
   "source": [
    "knn = KNeighborsClassifier(n_neighbors = 35) #,metric = 'manhattan')\n",
    "knn.fit(x_train,y_train.values.ravel())\n",
    "y_predict = knn.predict(x_test)\n",
    "y_predict"
   ]
  },
  {
   "cell_type": "code",
   "execution_count": 44,
   "id": "b46189f1",
   "metadata": {},
   "outputs": [
    {
     "data": {
      "text/plain": [
       "0.9199105145413871"
      ]
     },
     "execution_count": 44,
     "metadata": {},
     "output_type": "execute_result"
    }
   ],
   "source": [
    "accuracy = accuracy_score(y_test,y_predict)\n",
    "accuracy"
   ]
  },
  {
   "cell_type": "code",
   "execution_count": null,
   "id": "b575581d",
   "metadata": {},
   "outputs": [],
   "source": []
  }
 ],
 "metadata": {
  "kernelspec": {
   "display_name": "Python 3 (ipykernel)",
   "language": "python",
   "name": "python3"
  },
  "language_info": {
   "codemirror_mode": {
    "name": "ipython",
    "version": 3
   },
   "file_extension": ".py",
   "mimetype": "text/x-python",
   "name": "python",
   "nbconvert_exporter": "python",
   "pygments_lexer": "ipython3",
   "version": "3.11.5"
  }
 },
 "nbformat": 4,
 "nbformat_minor": 5
}
